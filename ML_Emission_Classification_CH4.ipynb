{
 "cells": [
  {
   "cell_type": "markdown",
   "id": "ac5fd5d9",
   "metadata": {},
   "source": [
    "# CH4 Emission Analysis using Machine Learning Model\n",
    "\n",
    "Each country have CH4 Emission from different Items and we are interested to classify the Emission values into different zones depending on all the features. \n",
    "\n",
    "#### Since CH4 is more harmful, the Zones are split into 4 different Categories with 0 for Green, 1 for Yellow, 2 for Orange and 3 for Red. The countries in Zone 3 are in Red Zone and need to take immediate action to reduce the N20 Emission."
   ]
  },
  {
   "cell_type": "code",
   "execution_count": 1,
   "id": "af34b89b",
   "metadata": {},
   "outputs": [],
   "source": [
    "import warnings\n",
    "warnings.simplefilter(action='ignore', category=FutureWarning)\n",
    "warnings.simplefilter(action='ignore', category=Warning)"
   ]
  },
  {
   "cell_type": "code",
   "execution_count": 2,
   "id": "7ba12bce",
   "metadata": {},
   "outputs": [],
   "source": [
    "import pandas as pd\n",
    "import numpy as np\n",
    "from sklearn.linear_model import LogisticRegression\n",
    "from sklearn.ensemble import RandomForestClassifier\n",
    "from sklearn.preprocessing import StandardScaler\n",
    "from sklearn.model_selection import train_test_split\n",
    "from sklearn.metrics import confusion_matrix, accuracy_score, classification_report"
   ]
  },
  {
   "cell_type": "markdown",
   "id": "5aeee0ec",
   "metadata": {},
   "source": [
    "### Get and Clean Data\n",
    "\n",
    "Element Codes: 7225\n",
    "\n",
    "Item_Codes: 5058, 5059, 5060, 5066, 6795, 6992, 6993, 6994, 6516\n",
    "\n",
    "Year: 2011 to 2019\n",
    "\n",
    "\n",
    "As we have many small countries in our list with very less Emission (<1) and population (<5000), which are not impacting the world Emission. So, we are not considering those records. "
   ]
  },
  {
   "cell_type": "code",
   "execution_count": 3,
   "id": "a8928f92",
   "metadata": {},
   "outputs": [
    {
     "data": {
      "text/html": [
       "<div>\n",
       "<style scoped>\n",
       "    .dataframe tbody tr th:only-of-type {\n",
       "        vertical-align: middle;\n",
       "    }\n",
       "\n",
       "    .dataframe tbody tr th {\n",
       "        vertical-align: top;\n",
       "    }\n",
       "\n",
       "    .dataframe thead th {\n",
       "        text-align: right;\n",
       "    }\n",
       "</style>\n",
       "<table border=\"1\" class=\"dataframe\">\n",
       "  <thead>\n",
       "    <tr style=\"text-align: right;\">\n",
       "      <th></th>\n",
       "      <th>Area_Code</th>\n",
       "      <th>Area</th>\n",
       "      <th>Item_Code</th>\n",
       "      <th>Item</th>\n",
       "      <th>Element_Code</th>\n",
       "      <th>Element</th>\n",
       "      <th>Year</th>\n",
       "      <th>Population</th>\n",
       "      <th>Emission</th>\n",
       "    </tr>\n",
       "  </thead>\n",
       "  <tbody>\n",
       "    <tr>\n",
       "      <th>0</th>\n",
       "      <td>2</td>\n",
       "      <td>Afghanistan</td>\n",
       "      <td>5058</td>\n",
       "      <td>Enteric Fermentation</td>\n",
       "      <td>7225</td>\n",
       "      <td>Emissions (CH4)</td>\n",
       "      <td>1990</td>\n",
       "      <td>12412.308</td>\n",
       "      <td>178.4682</td>\n",
       "    </tr>\n",
       "    <tr>\n",
       "      <th>1</th>\n",
       "      <td>2</td>\n",
       "      <td>Afghanistan</td>\n",
       "      <td>5058</td>\n",
       "      <td>Enteric Fermentation</td>\n",
       "      <td>724413</td>\n",
       "      <td>Emissions (CO2eq) from CH4 (AR5)</td>\n",
       "      <td>1990</td>\n",
       "      <td>12412.308</td>\n",
       "      <td>4997.1108</td>\n",
       "    </tr>\n",
       "    <tr>\n",
       "      <th>2</th>\n",
       "      <td>2</td>\n",
       "      <td>Afghanistan</td>\n",
       "      <td>5058</td>\n",
       "      <td>Enteric Fermentation</td>\n",
       "      <td>723113</td>\n",
       "      <td>Emissions (CO2eq) (AR5)</td>\n",
       "      <td>1990</td>\n",
       "      <td>12412.308</td>\n",
       "      <td>4997.1108</td>\n",
       "    </tr>\n",
       "    <tr>\n",
       "      <th>3</th>\n",
       "      <td>2</td>\n",
       "      <td>Afghanistan</td>\n",
       "      <td>5059</td>\n",
       "      <td>Manure Management</td>\n",
       "      <td>7225</td>\n",
       "      <td>Emissions (CH4)</td>\n",
       "      <td>1990</td>\n",
       "      <td>12412.308</td>\n",
       "      <td>8.5165</td>\n",
       "    </tr>\n",
       "    <tr>\n",
       "      <th>4</th>\n",
       "      <td>2</td>\n",
       "      <td>Afghanistan</td>\n",
       "      <td>5059</td>\n",
       "      <td>Manure Management</td>\n",
       "      <td>7230</td>\n",
       "      <td>Emissions (N2O)</td>\n",
       "      <td>1990</td>\n",
       "      <td>12412.308</td>\n",
       "      <td>0.3046</td>\n",
       "    </tr>\n",
       "    <tr>\n",
       "      <th>...</th>\n",
       "      <td>...</td>\n",
       "      <td>...</td>\n",
       "      <td>...</td>\n",
       "      <td>...</td>\n",
       "      <td>...</td>\n",
       "      <td>...</td>\n",
       "      <td>...</td>\n",
       "      <td>...</td>\n",
       "      <td>...</td>\n",
       "    </tr>\n",
       "    <tr>\n",
       "      <th>844768</th>\n",
       "      <td>181</td>\n",
       "      <td>Zimbabwe</td>\n",
       "      <td>6516</td>\n",
       "      <td>Land Use change</td>\n",
       "      <td>7230</td>\n",
       "      <td>Emissions (N2O)</td>\n",
       "      <td>2019</td>\n",
       "      <td>14645.468</td>\n",
       "      <td>0.0000</td>\n",
       "    </tr>\n",
       "    <tr>\n",
       "      <th>844769</th>\n",
       "      <td>181</td>\n",
       "      <td>Zimbabwe</td>\n",
       "      <td>6516</td>\n",
       "      <td>Land Use change</td>\n",
       "      <td>7273</td>\n",
       "      <td>Emissions (CO2)</td>\n",
       "      <td>2019</td>\n",
       "      <td>14645.468</td>\n",
       "      <td>10662.4408</td>\n",
       "    </tr>\n",
       "    <tr>\n",
       "      <th>844770</th>\n",
       "      <td>181</td>\n",
       "      <td>Zimbabwe</td>\n",
       "      <td>6516</td>\n",
       "      <td>Land Use change</td>\n",
       "      <td>724413</td>\n",
       "      <td>Emissions (CO2eq) from CH4 (AR5)</td>\n",
       "      <td>2019</td>\n",
       "      <td>14645.468</td>\n",
       "      <td>0.0000</td>\n",
       "    </tr>\n",
       "    <tr>\n",
       "      <th>844771</th>\n",
       "      <td>181</td>\n",
       "      <td>Zimbabwe</td>\n",
       "      <td>6516</td>\n",
       "      <td>Land Use change</td>\n",
       "      <td>724313</td>\n",
       "      <td>Emissions (CO2eq) from N2O (AR5)</td>\n",
       "      <td>2019</td>\n",
       "      <td>14645.468</td>\n",
       "      <td>0.0000</td>\n",
       "    </tr>\n",
       "    <tr>\n",
       "      <th>844772</th>\n",
       "      <td>181</td>\n",
       "      <td>Zimbabwe</td>\n",
       "      <td>6516</td>\n",
       "      <td>Land Use change</td>\n",
       "      <td>723113</td>\n",
       "      <td>Emissions (CO2eq) (AR5)</td>\n",
       "      <td>2019</td>\n",
       "      <td>14645.468</td>\n",
       "      <td>10662.4408</td>\n",
       "    </tr>\n",
       "  </tbody>\n",
       "</table>\n",
       "<p>728361 rows × 9 columns</p>\n",
       "</div>"
      ],
      "text/plain": [
       "        Area_Code         Area  Item_Code                  Item  Element_Code  \\\n",
       "0               2  Afghanistan       5058  Enteric Fermentation          7225   \n",
       "1               2  Afghanistan       5058  Enteric Fermentation        724413   \n",
       "2               2  Afghanistan       5058  Enteric Fermentation        723113   \n",
       "3               2  Afghanistan       5059     Manure Management          7225   \n",
       "4               2  Afghanistan       5059     Manure Management          7230   \n",
       "...           ...          ...        ...                   ...           ...   \n",
       "844768        181     Zimbabwe       6516       Land Use change          7230   \n",
       "844769        181     Zimbabwe       6516       Land Use change          7273   \n",
       "844770        181     Zimbabwe       6516       Land Use change        724413   \n",
       "844771        181     Zimbabwe       6516       Land Use change        724313   \n",
       "844772        181     Zimbabwe       6516       Land Use change        723113   \n",
       "\n",
       "                                 Element  Year  Population    Emission  \n",
       "0                        Emissions (CH4)  1990   12412.308    178.4682  \n",
       "1       Emissions (CO2eq) from CH4 (AR5)  1990   12412.308   4997.1108  \n",
       "2                Emissions (CO2eq) (AR5)  1990   12412.308   4997.1108  \n",
       "3                        Emissions (CH4)  1990   12412.308      8.5165  \n",
       "4                        Emissions (N2O)  1990   12412.308      0.3046  \n",
       "...                                  ...   ...         ...         ...  \n",
       "844768                   Emissions (N2O)  2019   14645.468      0.0000  \n",
       "844769                   Emissions (CO2)  2019   14645.468  10662.4408  \n",
       "844770  Emissions (CO2eq) from CH4 (AR5)  2019   14645.468      0.0000  \n",
       "844771  Emissions (CO2eq) from N2O (AR5)  2019   14645.468      0.0000  \n",
       "844772           Emissions (CO2eq) (AR5)  2019   14645.468  10662.4408  \n",
       "\n",
       "[728361 rows x 9 columns]"
      ]
     },
     "execution_count": 3,
     "metadata": {},
     "output_type": "execute_result"
    }
   ],
   "source": [
    "#Loading the Csv file from S3 Bucket\n",
    "noworld_population_df = pd.read_csv(\"https://dataanalyticsproject.s3.us-east-2.amazonaws.com/Merged_L5000.csv\",index_col=[0]) \n",
    "#noworld_population_df = pd.read_csv(\"Emission_Population_L5000_Data.csv\") \n",
    "noworld_population_df"
   ]
  },
  {
   "cell_type": "code",
   "execution_count": 4,
   "id": "0d105129",
   "metadata": {},
   "outputs": [
    {
     "data": {
      "text/html": [
       "<div>\n",
       "<style scoped>\n",
       "    .dataframe tbody tr th:only-of-type {\n",
       "        vertical-align: middle;\n",
       "    }\n",
       "\n",
       "    .dataframe tbody tr th {\n",
       "        vertical-align: top;\n",
       "    }\n",
       "\n",
       "    .dataframe thead th {\n",
       "        text-align: right;\n",
       "    }\n",
       "</style>\n",
       "<table border=\"1\" class=\"dataframe\">\n",
       "  <thead>\n",
       "    <tr style=\"text-align: right;\">\n",
       "      <th></th>\n",
       "      <th>count</th>\n",
       "      <th>mean</th>\n",
       "      <th>std</th>\n",
       "      <th>min</th>\n",
       "      <th>25%</th>\n",
       "      <th>50%</th>\n",
       "      <th>75%</th>\n",
       "      <th>max</th>\n",
       "    </tr>\n",
       "  </thead>\n",
       "  <tbody>\n",
       "    <tr>\n",
       "      <th>Area_Code</th>\n",
       "      <td>728361.0</td>\n",
       "      <td>129.037646</td>\n",
       "      <td>75.436579</td>\n",
       "      <td>1.000</td>\n",
       "      <td>64.0000</td>\n",
       "      <td>128.0000</td>\n",
       "      <td>192.0000</td>\n",
       "      <td>351.000</td>\n",
       "    </tr>\n",
       "    <tr>\n",
       "      <th>Item_Code</th>\n",
       "      <td>728361.0</td>\n",
       "      <td>9750.328847</td>\n",
       "      <td>16082.691077</td>\n",
       "      <td>1707.000</td>\n",
       "      <td>5061.0000</td>\n",
       "      <td>6750.0000</td>\n",
       "      <td>6994.0000</td>\n",
       "      <td>69921.000</td>\n",
       "    </tr>\n",
       "    <tr>\n",
       "      <th>Element_Code</th>\n",
       "      <td>728361.0</td>\n",
       "      <td>354233.179775</td>\n",
       "      <td>358123.888115</td>\n",
       "      <td>7225.000</td>\n",
       "      <td>7230.0000</td>\n",
       "      <td>7273.0000</td>\n",
       "      <td>724313.0000</td>\n",
       "      <td>724413.000</td>\n",
       "    </tr>\n",
       "    <tr>\n",
       "      <th>Year</th>\n",
       "      <td>728361.0</td>\n",
       "      <td>2004.643095</td>\n",
       "      <td>8.607385</td>\n",
       "      <td>1990.000</td>\n",
       "      <td>1997.0000</td>\n",
       "      <td>2005.0000</td>\n",
       "      <td>2012.0000</td>\n",
       "      <td>2019.000</td>\n",
       "    </tr>\n",
       "    <tr>\n",
       "      <th>Population</th>\n",
       "      <td>728361.0</td>\n",
       "      <td>38135.675229</td>\n",
       "      <td>156133.177982</td>\n",
       "      <td>0.768</td>\n",
       "      <td>766.6150</td>\n",
       "      <td>5716.1610</td>\n",
       "      <td>20526.3030</td>\n",
       "      <td>1465634.161</td>\n",
       "    </tr>\n",
       "    <tr>\n",
       "      <th>Emission</th>\n",
       "      <td>728361.0</td>\n",
       "      <td>4009.738416</td>\n",
       "      <td>43708.062051</td>\n",
       "      <td>-797183.079</td>\n",
       "      <td>0.0076</td>\n",
       "      <td>3.5152</td>\n",
       "      <td>216.6866</td>\n",
       "      <td>2171273.959</td>\n",
       "    </tr>\n",
       "  </tbody>\n",
       "</table>\n",
       "</div>"
      ],
      "text/plain": [
       "                 count           mean            std         min        25%  \\\n",
       "Area_Code     728361.0     129.037646      75.436579       1.000    64.0000   \n",
       "Item_Code     728361.0    9750.328847   16082.691077    1707.000  5061.0000   \n",
       "Element_Code  728361.0  354233.179775  358123.888115    7225.000  7230.0000   \n",
       "Year          728361.0    2004.643095       8.607385    1990.000  1997.0000   \n",
       "Population    728361.0   38135.675229  156133.177982       0.768   766.6150   \n",
       "Emission      728361.0    4009.738416   43708.062051 -797183.079     0.0076   \n",
       "\n",
       "                    50%          75%          max  \n",
       "Area_Code      128.0000     192.0000      351.000  \n",
       "Item_Code     6750.0000    6994.0000    69921.000  \n",
       "Element_Code  7273.0000  724313.0000   724413.000  \n",
       "Year          2005.0000    2012.0000     2019.000  \n",
       "Population    5716.1610   20526.3030  1465634.161  \n",
       "Emission         3.5152     216.6866  2171273.959  "
      ]
     },
     "execution_count": 4,
     "metadata": {},
     "output_type": "execute_result"
    }
   ],
   "source": [
    "#Finding the Statistical values of each feature\n",
    "noworld_population_df.describe().T"
   ]
  },
  {
   "cell_type": "code",
   "execution_count": 5,
   "id": "e136b80b",
   "metadata": {},
   "outputs": [
    {
     "data": {
      "text/html": [
       "<div>\n",
       "<style scoped>\n",
       "    .dataframe tbody tr th:only-of-type {\n",
       "        vertical-align: middle;\n",
       "    }\n",
       "\n",
       "    .dataframe tbody tr th {\n",
       "        vertical-align: top;\n",
       "    }\n",
       "\n",
       "    .dataframe thead th {\n",
       "        text-align: right;\n",
       "    }\n",
       "</style>\n",
       "<table border=\"1\" class=\"dataframe\">\n",
       "  <thead>\n",
       "    <tr style=\"text-align: right;\">\n",
       "      <th></th>\n",
       "      <th>count</th>\n",
       "      <th>unique</th>\n",
       "      <th>top</th>\n",
       "      <th>freq</th>\n",
       "    </tr>\n",
       "  </thead>\n",
       "  <tbody>\n",
       "    <tr>\n",
       "      <th>Area</th>\n",
       "      <td>728361</td>\n",
       "      <td>240</td>\n",
       "      <td>Portugal</td>\n",
       "      <td>3570</td>\n",
       "    </tr>\n",
       "    <tr>\n",
       "      <th>Item</th>\n",
       "      <td>728361</td>\n",
       "      <td>25</td>\n",
       "      <td>Emissions on agricultural land</td>\n",
       "      <td>53082</td>\n",
       "    </tr>\n",
       "    <tr>\n",
       "      <th>Element</th>\n",
       "      <td>728361</td>\n",
       "      <td>8</td>\n",
       "      <td>Emissions (CO2eq) (AR5)</td>\n",
       "      <td>146660</td>\n",
       "    </tr>\n",
       "  </tbody>\n",
       "</table>\n",
       "</div>"
      ],
      "text/plain": [
       "          count unique                             top    freq\n",
       "Area     728361    240                        Portugal    3570\n",
       "Item     728361     25  Emissions on agricultural land   53082\n",
       "Element  728361      8         Emissions (CO2eq) (AR5)  146660"
      ]
     },
     "execution_count": 5,
     "metadata": {},
     "output_type": "execute_result"
    }
   ],
   "source": [
    "#Details of non-numeric features\n",
    "noworld_population_df.describe(include=['object']).T"
   ]
  },
  {
   "cell_type": "code",
   "execution_count": 6,
   "id": "28647225",
   "metadata": {},
   "outputs": [
    {
     "name": "stdout",
     "output_type": "stream",
     "text": [
      "<class 'pandas.core.frame.DataFrame'>\n",
      "Int64Index: 728361 entries, 0 to 844772\n",
      "Data columns (total 9 columns):\n",
      " #   Column        Non-Null Count   Dtype  \n",
      "---  ------        --------------   -----  \n",
      " 0   Area_Code     728361 non-null  int64  \n",
      " 1   Area          728361 non-null  object \n",
      " 2   Item_Code     728361 non-null  int64  \n",
      " 3   Item          728361 non-null  object \n",
      " 4   Element_Code  728361 non-null  int64  \n",
      " 5   Element       728361 non-null  object \n",
      " 6   Year          728361 non-null  int64  \n",
      " 7   Population    728361 non-null  float64\n",
      " 8   Emission      728361 non-null  float64\n",
      "dtypes: float64(2), int64(4), object(3)\n",
      "memory usage: 55.6+ MB\n"
     ]
    }
   ],
   "source": [
    "#Checking the null values\n",
    "noworld_population_df.info()"
   ]
  },
  {
   "cell_type": "code",
   "execution_count": 7,
   "id": "3073373f",
   "metadata": {},
   "outputs": [
    {
     "data": {
      "text/plain": [
       "Index(['Area_Code', 'Area', 'Item_Code', 'Item', 'Element_Code', 'Element',\n",
       "       'Year', 'Population', 'Emission'],\n",
       "      dtype='object')"
      ]
     },
     "execution_count": 7,
     "metadata": {},
     "output_type": "execute_result"
    }
   ],
   "source": [
    "#List of columns\n",
    "noworld_population_df.columns"
   ]
  },
  {
   "cell_type": "code",
   "execution_count": 8,
   "id": "8de81a87",
   "metadata": {},
   "outputs": [
    {
     "data": {
      "text/html": [
       "<div>\n",
       "<style scoped>\n",
       "    .dataframe tbody tr th:only-of-type {\n",
       "        vertical-align: middle;\n",
       "    }\n",
       "\n",
       "    .dataframe tbody tr th {\n",
       "        vertical-align: top;\n",
       "    }\n",
       "\n",
       "    .dataframe thead th {\n",
       "        text-align: right;\n",
       "    }\n",
       "</style>\n",
       "<table border=\"1\" class=\"dataframe\">\n",
       "  <thead>\n",
       "    <tr style=\"text-align: right;\">\n",
       "      <th></th>\n",
       "      <th>Area_Code</th>\n",
       "      <th>Area</th>\n",
       "      <th>Item_Code</th>\n",
       "      <th>Item</th>\n",
       "      <th>Element_Code</th>\n",
       "      <th>Element</th>\n",
       "      <th>Year</th>\n",
       "      <th>Population</th>\n",
       "      <th>Emission</th>\n",
       "    </tr>\n",
       "  </thead>\n",
       "  <tbody>\n",
       "    <tr>\n",
       "      <th>591077</th>\n",
       "      <td>2</td>\n",
       "      <td>Afghanistan</td>\n",
       "      <td>5058</td>\n",
       "      <td>Enteric Fermentation</td>\n",
       "      <td>7225</td>\n",
       "      <td>Emissions (CH4)</td>\n",
       "      <td>2011</td>\n",
       "      <td>30117.413</td>\n",
       "      <td>402.5130</td>\n",
       "    </tr>\n",
       "    <tr>\n",
       "      <th>591080</th>\n",
       "      <td>2</td>\n",
       "      <td>Afghanistan</td>\n",
       "      <td>5059</td>\n",
       "      <td>Manure Management</td>\n",
       "      <td>7225</td>\n",
       "      <td>Emissions (CH4)</td>\n",
       "      <td>2011</td>\n",
       "      <td>30117.413</td>\n",
       "      <td>26.1599</td>\n",
       "    </tr>\n",
       "    <tr>\n",
       "      <th>591085</th>\n",
       "      <td>2</td>\n",
       "      <td>Afghanistan</td>\n",
       "      <td>5060</td>\n",
       "      <td>Rice Cultivation</td>\n",
       "      <td>7225</td>\n",
       "      <td>Emissions (CH4)</td>\n",
       "      <td>2011</td>\n",
       "      <td>30117.413</td>\n",
       "      <td>29.4000</td>\n",
       "    </tr>\n",
       "    <tr>\n",
       "      <th>591108</th>\n",
       "      <td>2</td>\n",
       "      <td>Afghanistan</td>\n",
       "      <td>5066</td>\n",
       "      <td>Burning - Crop residues</td>\n",
       "      <td>7225</td>\n",
       "      <td>Emissions (CH4)</td>\n",
       "      <td>2011</td>\n",
       "      <td>30117.413</td>\n",
       "      <td>3.2219</td>\n",
       "    </tr>\n",
       "    <tr>\n",
       "      <th>591309</th>\n",
       "      <td>4</td>\n",
       "      <td>Algeria</td>\n",
       "      <td>5058</td>\n",
       "      <td>Enteric Fermentation</td>\n",
       "      <td>7225</td>\n",
       "      <td>Emissions (CH4)</td>\n",
       "      <td>2011</td>\n",
       "      <td>36661.445</td>\n",
       "      <td>228.8808</td>\n",
       "    </tr>\n",
       "    <tr>\n",
       "      <th>...</th>\n",
       "      <td>...</td>\n",
       "      <td>...</td>\n",
       "      <td>...</td>\n",
       "      <td>...</td>\n",
       "      <td>...</td>\n",
       "      <td>...</td>\n",
       "      <td>...</td>\n",
       "      <td>...</td>\n",
       "      <td>...</td>\n",
       "    </tr>\n",
       "    <tr>\n",
       "      <th>844663</th>\n",
       "      <td>181</td>\n",
       "      <td>Zimbabwe</td>\n",
       "      <td>5059</td>\n",
       "      <td>Manure Management</td>\n",
       "      <td>7225</td>\n",
       "      <td>Emissions (CH4)</td>\n",
       "      <td>2019</td>\n",
       "      <td>14645.468</td>\n",
       "      <td>7.4455</td>\n",
       "    </tr>\n",
       "    <tr>\n",
       "      <th>844668</th>\n",
       "      <td>181</td>\n",
       "      <td>Zimbabwe</td>\n",
       "      <td>5060</td>\n",
       "      <td>Rice Cultivation</td>\n",
       "      <td>7225</td>\n",
       "      <td>Emissions (CH4)</td>\n",
       "      <td>2019</td>\n",
       "      <td>14645.468</td>\n",
       "      <td>1.8242</td>\n",
       "    </tr>\n",
       "    <tr>\n",
       "      <th>844691</th>\n",
       "      <td>181</td>\n",
       "      <td>Zimbabwe</td>\n",
       "      <td>5066</td>\n",
       "      <td>Burning - Crop residues</td>\n",
       "      <td>7225</td>\n",
       "      <td>Emissions (CH4)</td>\n",
       "      <td>2019</td>\n",
       "      <td>14645.468</td>\n",
       "      <td>2.5388</td>\n",
       "    </tr>\n",
       "    <tr>\n",
       "      <th>844700</th>\n",
       "      <td>181</td>\n",
       "      <td>Zimbabwe</td>\n",
       "      <td>6795</td>\n",
       "      <td>Savanna fires</td>\n",
       "      <td>7225</td>\n",
       "      <td>Emissions (CH4)</td>\n",
       "      <td>2019</td>\n",
       "      <td>14645.468</td>\n",
       "      <td>31.2309</td>\n",
       "    </tr>\n",
       "    <tr>\n",
       "      <th>844710</th>\n",
       "      <td>181</td>\n",
       "      <td>Zimbabwe</td>\n",
       "      <td>6992</td>\n",
       "      <td>Forest fires</td>\n",
       "      <td>7225</td>\n",
       "      <td>Emissions (CH4)</td>\n",
       "      <td>2019</td>\n",
       "      <td>14645.468</td>\n",
       "      <td>5.1243</td>\n",
       "    </tr>\n",
       "  </tbody>\n",
       "</table>\n",
       "<p>5034 rows × 9 columns</p>\n",
       "</div>"
      ],
      "text/plain": [
       "        Area_Code         Area  Item_Code                     Item  \\\n",
       "591077          2  Afghanistan       5058     Enteric Fermentation   \n",
       "591080          2  Afghanistan       5059        Manure Management   \n",
       "591085          2  Afghanistan       5060         Rice Cultivation   \n",
       "591108          2  Afghanistan       5066  Burning - Crop residues   \n",
       "591309          4      Algeria       5058     Enteric Fermentation   \n",
       "...           ...          ...        ...                      ...   \n",
       "844663        181     Zimbabwe       5059        Manure Management   \n",
       "844668        181     Zimbabwe       5060         Rice Cultivation   \n",
       "844691        181     Zimbabwe       5066  Burning - Crop residues   \n",
       "844700        181     Zimbabwe       6795            Savanna fires   \n",
       "844710        181     Zimbabwe       6992             Forest fires   \n",
       "\n",
       "        Element_Code          Element  Year  Population  Emission  \n",
       "591077          7225  Emissions (CH4)  2011   30117.413  402.5130  \n",
       "591080          7225  Emissions (CH4)  2011   30117.413   26.1599  \n",
       "591085          7225  Emissions (CH4)  2011   30117.413   29.4000  \n",
       "591108          7225  Emissions (CH4)  2011   30117.413    3.2219  \n",
       "591309          7225  Emissions (CH4)  2011   36661.445  228.8808  \n",
       "...              ...              ...   ...         ...       ...  \n",
       "844663          7225  Emissions (CH4)  2019   14645.468    7.4455  \n",
       "844668          7225  Emissions (CH4)  2019   14645.468    1.8242  \n",
       "844691          7225  Emissions (CH4)  2019   14645.468    2.5388  \n",
       "844700          7225  Emissions (CH4)  2019   14645.468   31.2309  \n",
       "844710          7225  Emissions (CH4)  2019   14645.468    5.1243  \n",
       "\n",
       "[5034 rows x 9 columns]"
      ]
     },
     "execution_count": 8,
     "metadata": {},
     "output_type": "execute_result"
    }
   ],
   "source": [
    "#As mentioned above, we are trying to extract the corresponding data from Emission dataset for Countries\n",
    "emissions_CH4_df = noworld_population_df[noworld_population_df['Item_Code'].isin([5058, 5059, 5060, 5066, 6795, 6992, 6993, 6994, 6516]) & \n",
    "                                        (noworld_population_df['Element_Code'] == 7225) &\n",
    "                                        (noworld_population_df['Year'] > 2010 ) & (noworld_population_df['Emission'] > 1) &\n",
    "                                            (noworld_population_df['Population'] > 5000) ]\n",
    "\n",
    "\n",
    "emissions_CH4_df"
   ]
  },
  {
   "cell_type": "code",
   "execution_count": 9,
   "id": "d4aa7e94",
   "metadata": {},
   "outputs": [
    {
     "data": {
      "text/html": [
       "<div>\n",
       "<style scoped>\n",
       "    .dataframe tbody tr th:only-of-type {\n",
       "        vertical-align: middle;\n",
       "    }\n",
       "\n",
       "    .dataframe tbody tr th {\n",
       "        vertical-align: top;\n",
       "    }\n",
       "\n",
       "    .dataframe thead th {\n",
       "        text-align: right;\n",
       "    }\n",
       "</style>\n",
       "<table border=\"1\" class=\"dataframe\">\n",
       "  <thead>\n",
       "    <tr style=\"text-align: right;\">\n",
       "      <th></th>\n",
       "      <th>count</th>\n",
       "      <th>mean</th>\n",
       "      <th>std</th>\n",
       "      <th>min</th>\n",
       "      <th>25%</th>\n",
       "      <th>50%</th>\n",
       "      <th>75%</th>\n",
       "      <th>max</th>\n",
       "    </tr>\n",
       "  </thead>\n",
       "  <tbody>\n",
       "    <tr>\n",
       "      <th>Area_Code</th>\n",
       "      <td>5034.0</td>\n",
       "      <td>134.580850</td>\n",
       "      <td>79.526969</td>\n",
       "      <td>2.0000</td>\n",
       "      <td>60.000000</td>\n",
       "      <td>130.0000</td>\n",
       "      <td>202.0000</td>\n",
       "      <td>3.510000e+02</td>\n",
       "    </tr>\n",
       "    <tr>\n",
       "      <th>Item_Code</th>\n",
       "      <td>5034.0</td>\n",
       "      <td>5572.480334</td>\n",
       "      <td>806.514979</td>\n",
       "      <td>5058.0000</td>\n",
       "      <td>5059.000000</td>\n",
       "      <td>5060.0000</td>\n",
       "      <td>6516.0000</td>\n",
       "      <td>6.994000e+03</td>\n",
       "    </tr>\n",
       "    <tr>\n",
       "      <th>Element_Code</th>\n",
       "      <td>5034.0</td>\n",
       "      <td>7225.000000</td>\n",
       "      <td>0.000000</td>\n",
       "      <td>7225.0000</td>\n",
       "      <td>7225.000000</td>\n",
       "      <td>7225.0000</td>\n",
       "      <td>7225.0000</td>\n",
       "      <td>7.225000e+03</td>\n",
       "    </tr>\n",
       "    <tr>\n",
       "      <th>Year</th>\n",
       "      <td>5034.0</td>\n",
       "      <td>2015.009138</td>\n",
       "      <td>2.578918</td>\n",
       "      <td>2011.0000</td>\n",
       "      <td>2013.000000</td>\n",
       "      <td>2015.0000</td>\n",
       "      <td>2017.0000</td>\n",
       "      <td>2.019000e+03</td>\n",
       "    </tr>\n",
       "    <tr>\n",
       "      <th>Population</th>\n",
       "      <td>5034.0</td>\n",
       "      <td>100819.290266</td>\n",
       "      <td>266051.858950</td>\n",
       "      <td>5013.7090</td>\n",
       "      <td>11482.178000</td>\n",
       "      <td>26969.3070</td>\n",
       "      <td>63811.1990</td>\n",
       "      <td>1.465634e+06</td>\n",
       "    </tr>\n",
       "    <tr>\n",
       "      <th>Emission</th>\n",
       "      <td>5034.0</td>\n",
       "      <td>279.549859</td>\n",
       "      <td>1062.218430</td>\n",
       "      <td>1.0008</td>\n",
       "      <td>5.345475</td>\n",
       "      <td>24.3818</td>\n",
       "      <td>137.7057</td>\n",
       "      <td>1.405366e+04</td>\n",
       "    </tr>\n",
       "  </tbody>\n",
       "</table>\n",
       "</div>"
      ],
      "text/plain": [
       "               count           mean            std        min           25%  \\\n",
       "Area_Code     5034.0     134.580850      79.526969     2.0000     60.000000   \n",
       "Item_Code     5034.0    5572.480334     806.514979  5058.0000   5059.000000   \n",
       "Element_Code  5034.0    7225.000000       0.000000  7225.0000   7225.000000   \n",
       "Year          5034.0    2015.009138       2.578918  2011.0000   2013.000000   \n",
       "Population    5034.0  100819.290266  266051.858950  5013.7090  11482.178000   \n",
       "Emission      5034.0     279.549859    1062.218430     1.0008      5.345475   \n",
       "\n",
       "                     50%         75%           max  \n",
       "Area_Code       130.0000    202.0000  3.510000e+02  \n",
       "Item_Code      5060.0000   6516.0000  6.994000e+03  \n",
       "Element_Code   7225.0000   7225.0000  7.225000e+03  \n",
       "Year           2015.0000   2017.0000  2.019000e+03  \n",
       "Population    26969.3070  63811.1990  1.465634e+06  \n",
       "Emission         24.3818    137.7057  1.405366e+04  "
      ]
     },
     "execution_count": 9,
     "metadata": {},
     "output_type": "execute_result"
    }
   ],
   "source": [
    "#Finding the Statistical values of each feature\n",
    "emissions_CH4_df.describe().T"
   ]
  },
  {
   "cell_type": "code",
   "execution_count": 10,
   "id": "3767acaf",
   "metadata": {},
   "outputs": [
    {
     "data": {
      "text/html": [
       "<div>\n",
       "<style scoped>\n",
       "    .dataframe tbody tr th:only-of-type {\n",
       "        vertical-align: middle;\n",
       "    }\n",
       "\n",
       "    .dataframe tbody tr th {\n",
       "        vertical-align: top;\n",
       "    }\n",
       "\n",
       "    .dataframe thead th {\n",
       "        text-align: right;\n",
       "    }\n",
       "</style>\n",
       "<table border=\"1\" class=\"dataframe\">\n",
       "  <thead>\n",
       "    <tr style=\"text-align: right;\">\n",
       "      <th></th>\n",
       "      <th>Area_Code</th>\n",
       "      <th>Item_Code</th>\n",
       "      <th>Year</th>\n",
       "      <th>Population</th>\n",
       "      <th>Emission</th>\n",
       "    </tr>\n",
       "  </thead>\n",
       "  <tbody>\n",
       "    <tr>\n",
       "      <th>591077</th>\n",
       "      <td>2</td>\n",
       "      <td>5058</td>\n",
       "      <td>2011</td>\n",
       "      <td>30117.413</td>\n",
       "      <td>402.5130</td>\n",
       "    </tr>\n",
       "    <tr>\n",
       "      <th>591080</th>\n",
       "      <td>2</td>\n",
       "      <td>5059</td>\n",
       "      <td>2011</td>\n",
       "      <td>30117.413</td>\n",
       "      <td>26.1599</td>\n",
       "    </tr>\n",
       "    <tr>\n",
       "      <th>591085</th>\n",
       "      <td>2</td>\n",
       "      <td>5060</td>\n",
       "      <td>2011</td>\n",
       "      <td>30117.413</td>\n",
       "      <td>29.4000</td>\n",
       "    </tr>\n",
       "    <tr>\n",
       "      <th>591108</th>\n",
       "      <td>2</td>\n",
       "      <td>5066</td>\n",
       "      <td>2011</td>\n",
       "      <td>30117.413</td>\n",
       "      <td>3.2219</td>\n",
       "    </tr>\n",
       "    <tr>\n",
       "      <th>591309</th>\n",
       "      <td>4</td>\n",
       "      <td>5058</td>\n",
       "      <td>2011</td>\n",
       "      <td>36661.445</td>\n",
       "      <td>228.8808</td>\n",
       "    </tr>\n",
       "  </tbody>\n",
       "</table>\n",
       "</div>"
      ],
      "text/plain": [
       "        Area_Code  Item_Code  Year  Population  Emission\n",
       "591077          2       5058  2011   30117.413  402.5130\n",
       "591080          2       5059  2011   30117.413   26.1599\n",
       "591085          2       5060  2011   30117.413   29.4000\n",
       "591108          2       5066  2011   30117.413    3.2219\n",
       "591309          4       5058  2011   36661.445  228.8808"
      ]
     },
     "execution_count": 10,
     "metadata": {},
     "output_type": "execute_result"
    }
   ],
   "source": [
    "#Dropping the unwanted columns \n",
    "emissions_CH4_df=emissions_CH4_df.drop(['Area','Item','Element', 'Element_Code'],axis=1)\n",
    "emissions_CH4_df.head()"
   ]
  },
  {
   "cell_type": "markdown",
   "id": "a9ed8df9",
   "metadata": {},
   "source": [
    "# Categorizing data\n",
    "\n",
    "Item_Code = 0 to 8\n",
    "\n",
    "Year = 0 to 9 (2011 through 2019)\n",
    "\n",
    "Population = 0 to 4\n",
    "\n",
    "Emission = 0 to 7\n",
    "\n",
    "Zone 0 to 3 "
   ]
  },
  {
   "cell_type": "code",
   "execution_count": 11,
   "id": "0f8d73a9",
   "metadata": {},
   "outputs": [],
   "source": [
    "#Catagorizing the Item_Code data\n",
    "emissions_CH4_df.loc[emissions_CH4_df[\"Item_Code\"] == 5058, \"Item_Code\"] = 0\n",
    "emissions_CH4_df.loc[emissions_CH4_df[\"Item_Code\"] == 5059, \"Item_Code\"] = 1\n",
    "emissions_CH4_df.loc[emissions_CH4_df[\"Item_Code\"] == 5060, \"Item_Code\"] = 2\n",
    "emissions_CH4_df.loc[emissions_CH4_df[\"Item_Code\"] == 5066, \"Item_Code\"] = 3\n",
    "\n",
    "emissions_CH4_df.loc[emissions_CH4_df[\"Item_Code\"] == 6516, \"Item_Code\"] = 4\n",
    "emissions_CH4_df.loc[emissions_CH4_df[\"Item_Code\"] == 6795, \"Item_Code\"] = 5\n",
    "emissions_CH4_df.loc[emissions_CH4_df[\"Item_Code\"] == 6992, \"Item_Code\"] = 6\n",
    "emissions_CH4_df.loc[emissions_CH4_df[\"Item_Code\"] == 6993, \"Item_Code\"] = 7\n",
    "emissions_CH4_df.loc[emissions_CH4_df[\"Item_Code\"] == 6994, \"Item_Code\"] = 8"
   ]
  },
  {
   "cell_type": "code",
   "execution_count": 12,
   "id": "f0b86784",
   "metadata": {},
   "outputs": [
    {
     "data": {
      "text/html": [
       "<div>\n",
       "<style scoped>\n",
       "    .dataframe tbody tr th:only-of-type {\n",
       "        vertical-align: middle;\n",
       "    }\n",
       "\n",
       "    .dataframe tbody tr th {\n",
       "        vertical-align: top;\n",
       "    }\n",
       "\n",
       "    .dataframe thead th {\n",
       "        text-align: right;\n",
       "    }\n",
       "</style>\n",
       "<table border=\"1\" class=\"dataframe\">\n",
       "  <thead>\n",
       "    <tr style=\"text-align: right;\">\n",
       "      <th></th>\n",
       "      <th>Area_Code</th>\n",
       "      <th>Item_Code</th>\n",
       "      <th>Year</th>\n",
       "      <th>Population</th>\n",
       "      <th>Emission</th>\n",
       "    </tr>\n",
       "  </thead>\n",
       "  <tbody>\n",
       "    <tr>\n",
       "      <th>591077</th>\n",
       "      <td>2</td>\n",
       "      <td>0</td>\n",
       "      <td>2011</td>\n",
       "      <td>30117.413</td>\n",
       "      <td>402.5130</td>\n",
       "    </tr>\n",
       "    <tr>\n",
       "      <th>591080</th>\n",
       "      <td>2</td>\n",
       "      <td>1</td>\n",
       "      <td>2011</td>\n",
       "      <td>30117.413</td>\n",
       "      <td>26.1599</td>\n",
       "    </tr>\n",
       "    <tr>\n",
       "      <th>591085</th>\n",
       "      <td>2</td>\n",
       "      <td>2</td>\n",
       "      <td>2011</td>\n",
       "      <td>30117.413</td>\n",
       "      <td>29.4000</td>\n",
       "    </tr>\n",
       "    <tr>\n",
       "      <th>591108</th>\n",
       "      <td>2</td>\n",
       "      <td>3</td>\n",
       "      <td>2011</td>\n",
       "      <td>30117.413</td>\n",
       "      <td>3.2219</td>\n",
       "    </tr>\n",
       "    <tr>\n",
       "      <th>591309</th>\n",
       "      <td>4</td>\n",
       "      <td>0</td>\n",
       "      <td>2011</td>\n",
       "      <td>36661.445</td>\n",
       "      <td>228.8808</td>\n",
       "    </tr>\n",
       "  </tbody>\n",
       "</table>\n",
       "</div>"
      ],
      "text/plain": [
       "        Area_Code  Item_Code  Year  Population  Emission\n",
       "591077          2          0  2011   30117.413  402.5130\n",
       "591080          2          1  2011   30117.413   26.1599\n",
       "591085          2          2  2011   30117.413   29.4000\n",
       "591108          2          3  2011   30117.413    3.2219\n",
       "591309          4          0  2011   36661.445  228.8808"
      ]
     },
     "execution_count": 12,
     "metadata": {},
     "output_type": "execute_result"
    }
   ],
   "source": [
    "emissions_CH4_df.head()"
   ]
  },
  {
   "cell_type": "code",
   "execution_count": 13,
   "id": "38baaca4",
   "metadata": {},
   "outputs": [
    {
     "data": {
      "text/html": [
       "<div>\n",
       "<style scoped>\n",
       "    .dataframe tbody tr th:only-of-type {\n",
       "        vertical-align: middle;\n",
       "    }\n",
       "\n",
       "    .dataframe tbody tr th {\n",
       "        vertical-align: top;\n",
       "    }\n",
       "\n",
       "    .dataframe thead th {\n",
       "        text-align: right;\n",
       "    }\n",
       "</style>\n",
       "<table border=\"1\" class=\"dataframe\">\n",
       "  <thead>\n",
       "    <tr style=\"text-align: right;\">\n",
       "      <th></th>\n",
       "      <th>Area_Code</th>\n",
       "      <th>Item_Code</th>\n",
       "      <th>Year</th>\n",
       "      <th>Population</th>\n",
       "      <th>Emission</th>\n",
       "    </tr>\n",
       "  </thead>\n",
       "  <tbody>\n",
       "    <tr>\n",
       "      <th>591077</th>\n",
       "      <td>2</td>\n",
       "      <td>0</td>\n",
       "      <td>1</td>\n",
       "      <td>30117.413</td>\n",
       "      <td>402.5130</td>\n",
       "    </tr>\n",
       "    <tr>\n",
       "      <th>591080</th>\n",
       "      <td>2</td>\n",
       "      <td>1</td>\n",
       "      <td>1</td>\n",
       "      <td>30117.413</td>\n",
       "      <td>26.1599</td>\n",
       "    </tr>\n",
       "    <tr>\n",
       "      <th>591085</th>\n",
       "      <td>2</td>\n",
       "      <td>2</td>\n",
       "      <td>1</td>\n",
       "      <td>30117.413</td>\n",
       "      <td>29.4000</td>\n",
       "    </tr>\n",
       "    <tr>\n",
       "      <th>591108</th>\n",
       "      <td>2</td>\n",
       "      <td>3</td>\n",
       "      <td>1</td>\n",
       "      <td>30117.413</td>\n",
       "      <td>3.2219</td>\n",
       "    </tr>\n",
       "    <tr>\n",
       "      <th>591309</th>\n",
       "      <td>4</td>\n",
       "      <td>0</td>\n",
       "      <td>1</td>\n",
       "      <td>36661.445</td>\n",
       "      <td>228.8808</td>\n",
       "    </tr>\n",
       "  </tbody>\n",
       "</table>\n",
       "</div>"
      ],
      "text/plain": [
       "        Area_Code  Item_Code  Year  Population  Emission\n",
       "591077          2          0     1   30117.413  402.5130\n",
       "591080          2          1     1   30117.413   26.1599\n",
       "591085          2          2     1   30117.413   29.4000\n",
       "591108          2          3     1   30117.413    3.2219\n",
       "591309          4          0     1   36661.445  228.8808"
      ]
     },
     "execution_count": 13,
     "metadata": {},
     "output_type": "execute_result"
    }
   ],
   "source": [
    "#Catagorizing Year 2010 through 2019\n",
    "emissions_CH4_df.loc[emissions_CH4_df[\"Year\"] == 2010, \"Year\"] = 0\n",
    "emissions_CH4_df.loc[emissions_CH4_df[\"Year\"] == 2011, \"Year\"] = 1\n",
    "emissions_CH4_df.loc[emissions_CH4_df[\"Year\"] == 2012, \"Year\"] = 2\n",
    "\n",
    "emissions_CH4_df.loc[emissions_CH4_df[\"Year\"] == 2013, \"Year\"] = 3\n",
    "emissions_CH4_df.loc[emissions_CH4_df[\"Year\"] == 2014, \"Year\"] = 4\n",
    "emissions_CH4_df.loc[emissions_CH4_df[\"Year\"] == 2015, \"Year\"] = 5\n",
    "\n",
    "emissions_CH4_df.loc[emissions_CH4_df[\"Year\"] == 2016, \"Year\"] = 6\n",
    "emissions_CH4_df.loc[emissions_CH4_df[\"Year\"] == 2017, \"Year\"] = 7\n",
    "emissions_CH4_df.loc[emissions_CH4_df[\"Year\"] == 2018, \"Year\"] = 8\n",
    "emissions_CH4_df.loc[emissions_CH4_df[\"Year\"] == 2019, \"Year\"] = 9\n",
    "\n",
    "emissions_CH4_df.head()"
   ]
  },
  {
   "cell_type": "code",
   "execution_count": 14,
   "id": "50dde49f",
   "metadata": {},
   "outputs": [
    {
     "data": {
      "text/html": [
       "<div>\n",
       "<style scoped>\n",
       "    .dataframe tbody tr th:only-of-type {\n",
       "        vertical-align: middle;\n",
       "    }\n",
       "\n",
       "    .dataframe tbody tr th {\n",
       "        vertical-align: top;\n",
       "    }\n",
       "\n",
       "    .dataframe thead th {\n",
       "        text-align: right;\n",
       "    }\n",
       "</style>\n",
       "<table border=\"1\" class=\"dataframe\">\n",
       "  <thead>\n",
       "    <tr style=\"text-align: right;\">\n",
       "      <th></th>\n",
       "      <th>Area_Code</th>\n",
       "      <th>Item_Code</th>\n",
       "      <th>Year</th>\n",
       "      <th>Population</th>\n",
       "      <th>Emission</th>\n",
       "    </tr>\n",
       "  </thead>\n",
       "  <tbody>\n",
       "    <tr>\n",
       "      <th>591077</th>\n",
       "      <td>2</td>\n",
       "      <td>0</td>\n",
       "      <td>1</td>\n",
       "      <td>1.0</td>\n",
       "      <td>402.5130</td>\n",
       "    </tr>\n",
       "    <tr>\n",
       "      <th>591080</th>\n",
       "      <td>2</td>\n",
       "      <td>1</td>\n",
       "      <td>1</td>\n",
       "      <td>1.0</td>\n",
       "      <td>26.1599</td>\n",
       "    </tr>\n",
       "    <tr>\n",
       "      <th>591085</th>\n",
       "      <td>2</td>\n",
       "      <td>2</td>\n",
       "      <td>1</td>\n",
       "      <td>1.0</td>\n",
       "      <td>29.4000</td>\n",
       "    </tr>\n",
       "    <tr>\n",
       "      <th>591108</th>\n",
       "      <td>2</td>\n",
       "      <td>3</td>\n",
       "      <td>1</td>\n",
       "      <td>1.0</td>\n",
       "      <td>3.2219</td>\n",
       "    </tr>\n",
       "    <tr>\n",
       "      <th>591309</th>\n",
       "      <td>4</td>\n",
       "      <td>0</td>\n",
       "      <td>1</td>\n",
       "      <td>1.0</td>\n",
       "      <td>228.8808</td>\n",
       "    </tr>\n",
       "  </tbody>\n",
       "</table>\n",
       "</div>"
      ],
      "text/plain": [
       "        Area_Code  Item_Code  Year  Population  Emission\n",
       "591077          2          0     1         1.0  402.5130\n",
       "591080          2          1     1         1.0   26.1599\n",
       "591085          2          2     1         1.0   29.4000\n",
       "591108          2          3     1         1.0    3.2219\n",
       "591309          4          0     1         1.0  228.8808"
      ]
     },
     "execution_count": 14,
     "metadata": {},
     "output_type": "execute_result"
    }
   ],
   "source": [
    "#Catagorizing Population data into 5 categories\n",
    "\n",
    "emissions_CH4_df.loc[emissions_CH4_df[\"Population\"] <=10000, \"Population\"] = 0\n",
    "emissions_CH4_df.loc[(emissions_CH4_df[\"Population\"] > 10000) & (emissions_CH4_df[\"Population\"] <= 50000) , \"Population\"] = 1\n",
    "emissions_CH4_df.loc[(emissions_CH4_df[\"Population\"] > 50000) & (emissions_CH4_df[\"Population\"] <= 100000), \"Population\"] = 2\n",
    "emissions_CH4_df.loc[(emissions_CH4_df[\"Population\"] > 100000) & (emissions_CH4_df[\"Population\"] <= 1000000) , \"Population\"] = 3\n",
    "emissions_CH4_df.loc[(emissions_CH4_df[\"Population\"] > 1000000) , \"Population\"] = 4     \n",
    "emissions_CH4_df.head()\n"
   ]
  },
  {
   "cell_type": "code",
   "execution_count": 15,
   "id": "023ba326",
   "metadata": {},
   "outputs": [
    {
     "data": {
      "text/html": [
       "<div>\n",
       "<style scoped>\n",
       "    .dataframe tbody tr th:only-of-type {\n",
       "        vertical-align: middle;\n",
       "    }\n",
       "\n",
       "    .dataframe tbody tr th {\n",
       "        vertical-align: top;\n",
       "    }\n",
       "\n",
       "    .dataframe thead th {\n",
       "        text-align: right;\n",
       "    }\n",
       "</style>\n",
       "<table border=\"1\" class=\"dataframe\">\n",
       "  <thead>\n",
       "    <tr style=\"text-align: right;\">\n",
       "      <th></th>\n",
       "      <th>Area_Code</th>\n",
       "      <th>Item_Code</th>\n",
       "      <th>Year</th>\n",
       "      <th>Population</th>\n",
       "      <th>Emission</th>\n",
       "      <th>Zone</th>\n",
       "    </tr>\n",
       "  </thead>\n",
       "  <tbody>\n",
       "    <tr>\n",
       "      <th>591077</th>\n",
       "      <td>2</td>\n",
       "      <td>0</td>\n",
       "      <td>1</td>\n",
       "      <td>1.0</td>\n",
       "      <td>402.5130</td>\n",
       "      <td>3.0</td>\n",
       "    </tr>\n",
       "    <tr>\n",
       "      <th>591080</th>\n",
       "      <td>2</td>\n",
       "      <td>1</td>\n",
       "      <td>1</td>\n",
       "      <td>1.0</td>\n",
       "      <td>26.1599</td>\n",
       "      <td>2.0</td>\n",
       "    </tr>\n",
       "    <tr>\n",
       "      <th>591085</th>\n",
       "      <td>2</td>\n",
       "      <td>2</td>\n",
       "      <td>1</td>\n",
       "      <td>1.0</td>\n",
       "      <td>29.4000</td>\n",
       "      <td>2.0</td>\n",
       "    </tr>\n",
       "    <tr>\n",
       "      <th>591108</th>\n",
       "      <td>2</td>\n",
       "      <td>3</td>\n",
       "      <td>1</td>\n",
       "      <td>1.0</td>\n",
       "      <td>3.2219</td>\n",
       "      <td>0.0</td>\n",
       "    </tr>\n",
       "    <tr>\n",
       "      <th>591309</th>\n",
       "      <td>4</td>\n",
       "      <td>0</td>\n",
       "      <td>1</td>\n",
       "      <td>1.0</td>\n",
       "      <td>228.8808</td>\n",
       "      <td>3.0</td>\n",
       "    </tr>\n",
       "  </tbody>\n",
       "</table>\n",
       "</div>"
      ],
      "text/plain": [
       "        Area_Code  Item_Code  Year  Population  Emission  Zone\n",
       "591077          2          0     1         1.0  402.5130   3.0\n",
       "591080          2          1     1         1.0   26.1599   2.0\n",
       "591085          2          2     1         1.0   29.4000   2.0\n",
       "591108          2          3     1         1.0    3.2219   0.0\n",
       "591309          4          0     1         1.0  228.8808   3.0"
      ]
     },
     "execution_count": 15,
     "metadata": {},
     "output_type": "execute_result"
    }
   ],
   "source": [
    "#Creating Zone Variable\n",
    "emissions_CH4_df.loc[(emissions_CH4_df[\"Emission\"] > 1) & (emissions_CH4_df[\"Emission\"] <= 10) , \"Zone\"] = 0\n",
    "emissions_CH4_df.loc[(emissions_CH4_df[\"Emission\"] > 10) & (emissions_CH4_df[\"Emission\"] <= 25) , \"Zone\"] = 1\n",
    "emissions_CH4_df.loc[(emissions_CH4_df[\"Emission\"] > 25) & (emissions_CH4_df[\"Emission\"] <= 75) , \"Zone\"] = 2\n",
    "emissions_CH4_df.loc[(emissions_CH4_df[\"Emission\"] > 75),\"Zone\"]= 3 \n",
    "\n",
    "emissions_CH4_df.head() "
   ]
  },
  {
   "cell_type": "code",
   "execution_count": 16,
   "id": "5e9ff338",
   "metadata": {},
   "outputs": [
    {
     "data": {
      "text/html": [
       "<div>\n",
       "<style scoped>\n",
       "    .dataframe tbody tr th:only-of-type {\n",
       "        vertical-align: middle;\n",
       "    }\n",
       "\n",
       "    .dataframe tbody tr th {\n",
       "        vertical-align: top;\n",
       "    }\n",
       "\n",
       "    .dataframe thead th {\n",
       "        text-align: right;\n",
       "    }\n",
       "</style>\n",
       "<table border=\"1\" class=\"dataframe\">\n",
       "  <thead>\n",
       "    <tr style=\"text-align: right;\">\n",
       "      <th></th>\n",
       "      <th>Area_Code</th>\n",
       "      <th>Item_Code</th>\n",
       "      <th>Year</th>\n",
       "      <th>Population</th>\n",
       "      <th>Emission</th>\n",
       "      <th>Zone</th>\n",
       "    </tr>\n",
       "  </thead>\n",
       "  <tbody>\n",
       "    <tr>\n",
       "      <th>591077</th>\n",
       "      <td>2</td>\n",
       "      <td>0</td>\n",
       "      <td>1</td>\n",
       "      <td>1.0</td>\n",
       "      <td>7.0</td>\n",
       "      <td>3.0</td>\n",
       "    </tr>\n",
       "    <tr>\n",
       "      <th>591080</th>\n",
       "      <td>2</td>\n",
       "      <td>1</td>\n",
       "      <td>1</td>\n",
       "      <td>1.0</td>\n",
       "      <td>3.0</td>\n",
       "      <td>2.0</td>\n",
       "    </tr>\n",
       "    <tr>\n",
       "      <th>591085</th>\n",
       "      <td>2</td>\n",
       "      <td>2</td>\n",
       "      <td>1</td>\n",
       "      <td>1.0</td>\n",
       "      <td>3.0</td>\n",
       "      <td>2.0</td>\n",
       "    </tr>\n",
       "    <tr>\n",
       "      <th>591108</th>\n",
       "      <td>2</td>\n",
       "      <td>3</td>\n",
       "      <td>1</td>\n",
       "      <td>1.0</td>\n",
       "      <td>0.0</td>\n",
       "      <td>0.0</td>\n",
       "    </tr>\n",
       "    <tr>\n",
       "      <th>591309</th>\n",
       "      <td>4</td>\n",
       "      <td>0</td>\n",
       "      <td>1</td>\n",
       "      <td>1.0</td>\n",
       "      <td>7.0</td>\n",
       "      <td>3.0</td>\n",
       "    </tr>\n",
       "  </tbody>\n",
       "</table>\n",
       "</div>"
      ],
      "text/plain": [
       "        Area_Code  Item_Code  Year  Population  Emission  Zone\n",
       "591077          2          0     1         1.0       7.0   3.0\n",
       "591080          2          1     1         1.0       3.0   2.0\n",
       "591085          2          2     1         1.0       3.0   2.0\n",
       "591108          2          3     1         1.0       0.0   0.0\n",
       "591309          4          0     1         1.0       7.0   3.0"
      ]
     },
     "execution_count": 16,
     "metadata": {},
     "output_type": "execute_result"
    }
   ],
   "source": [
    "#Catagorizing Emission values into 7 different categories\n",
    "\n",
    "emissions_CH4_df.loc[(emissions_CH4_df[\"Emission\"] > 1) & (emissions_CH4_df[\"Emission\"] <= 10) , \"Emission\"] = 0\n",
    "emissions_CH4_df.loc[(emissions_CH4_df[\"Emission\"] > 10) & (emissions_CH4_df[\"Emission\"] <= 15) , \"Emission\"] = 1\n",
    "emissions_CH4_df.loc[(emissions_CH4_df[\"Emission\"] > 15) & (emissions_CH4_df[\"Emission\"] <= 20) , \"Emission\"] = 2\n",
    "emissions_CH4_df.loc[(emissions_CH4_df[\"Emission\"] > 20) & (emissions_CH4_df[\"Emission\"] <= 30) , \"Emission\"] = 3\n",
    "emissions_CH4_df.loc[(emissions_CH4_df[\"Emission\"] > 30) & (emissions_CH4_df[\"Emission\"] <= 50) , \"Emission\"] = 4\n",
    "emissions_CH4_df.loc[(emissions_CH4_df[\"Emission\"] > 50) & (emissions_CH4_df[\"Emission\"] <= 100) , \"Emission\"] = 5\n",
    "emissions_CH4_df.loc[(emissions_CH4_df[\"Emission\"] > 100) & (emissions_CH4_df[\"Emission\"] <= 200) , \"Emission\"] = 6\n",
    "emissions_CH4_df.loc[(emissions_CH4_df[\"Emission\"] > 200),\"Emission\"] = 7\n",
    "\n",
    "emissions_CH4_df.head()                      "
   ]
  },
  {
   "cell_type": "code",
   "execution_count": 17,
   "id": "4cba8aa1",
   "metadata": {},
   "outputs": [],
   "source": [
    "emissions_CH4_df[\"Population\"] = emissions_CH4_df[\"Population\"].astype(int)\n",
    "emissions_CH4_df[\"Emission\"] = emissions_CH4_df[\"Emission\"].astype(int)\n",
    "emissions_CH4_df[\"Zone\"] = emissions_CH4_df[\"Zone\"].astype(int)"
   ]
  },
  {
   "cell_type": "code",
   "execution_count": 18,
   "id": "7e580a55",
   "metadata": {},
   "outputs": [
    {
     "data": {
      "text/html": [
       "<div>\n",
       "<style scoped>\n",
       "    .dataframe tbody tr th:only-of-type {\n",
       "        vertical-align: middle;\n",
       "    }\n",
       "\n",
       "    .dataframe tbody tr th {\n",
       "        vertical-align: top;\n",
       "    }\n",
       "\n",
       "    .dataframe thead th {\n",
       "        text-align: right;\n",
       "    }\n",
       "</style>\n",
       "<table border=\"1\" class=\"dataframe\">\n",
       "  <thead>\n",
       "    <tr style=\"text-align: right;\">\n",
       "      <th></th>\n",
       "      <th>count</th>\n",
       "      <th>mean</th>\n",
       "      <th>std</th>\n",
       "      <th>min</th>\n",
       "      <th>25%</th>\n",
       "      <th>50%</th>\n",
       "      <th>75%</th>\n",
       "      <th>max</th>\n",
       "    </tr>\n",
       "  </thead>\n",
       "  <tbody>\n",
       "    <tr>\n",
       "      <th>Area_Code</th>\n",
       "      <td>5034.0</td>\n",
       "      <td>134.580850</td>\n",
       "      <td>79.526969</td>\n",
       "      <td>2.0</td>\n",
       "      <td>60.0</td>\n",
       "      <td>130.0</td>\n",
       "      <td>202.0</td>\n",
       "      <td>351.0</td>\n",
       "    </tr>\n",
       "    <tr>\n",
       "      <th>Item_Code</th>\n",
       "      <td>5034.0</td>\n",
       "      <td>2.547080</td>\n",
       "      <td>2.234572</td>\n",
       "      <td>0.0</td>\n",
       "      <td>1.0</td>\n",
       "      <td>2.0</td>\n",
       "      <td>4.0</td>\n",
       "      <td>8.0</td>\n",
       "    </tr>\n",
       "    <tr>\n",
       "      <th>Year</th>\n",
       "      <td>5034.0</td>\n",
       "      <td>5.009138</td>\n",
       "      <td>2.578918</td>\n",
       "      <td>1.0</td>\n",
       "      <td>3.0</td>\n",
       "      <td>5.0</td>\n",
       "      <td>7.0</td>\n",
       "      <td>9.0</td>\n",
       "    </tr>\n",
       "    <tr>\n",
       "      <th>Population</th>\n",
       "      <td>5034.0</td>\n",
       "      <td>1.334724</td>\n",
       "      <td>1.020843</td>\n",
       "      <td>0.0</td>\n",
       "      <td>1.0</td>\n",
       "      <td>1.0</td>\n",
       "      <td>2.0</td>\n",
       "      <td>4.0</td>\n",
       "    </tr>\n",
       "    <tr>\n",
       "      <th>Emission</th>\n",
       "      <td>5034.0</td>\n",
       "      <td>3.130314</td>\n",
       "      <td>2.810687</td>\n",
       "      <td>0.0</td>\n",
       "      <td>0.0</td>\n",
       "      <td>3.0</td>\n",
       "      <td>6.0</td>\n",
       "      <td>7.0</td>\n",
       "    </tr>\n",
       "    <tr>\n",
       "      <th>Zone</th>\n",
       "      <td>5034.0</td>\n",
       "      <td>1.472785</td>\n",
       "      <td>1.271176</td>\n",
       "      <td>0.0</td>\n",
       "      <td>0.0</td>\n",
       "      <td>1.0</td>\n",
       "      <td>3.0</td>\n",
       "      <td>3.0</td>\n",
       "    </tr>\n",
       "  </tbody>\n",
       "</table>\n",
       "</div>"
      ],
      "text/plain": [
       "             count        mean        std  min   25%    50%    75%    max\n",
       "Area_Code   5034.0  134.580850  79.526969  2.0  60.0  130.0  202.0  351.0\n",
       "Item_Code   5034.0    2.547080   2.234572  0.0   1.0    2.0    4.0    8.0\n",
       "Year        5034.0    5.009138   2.578918  1.0   3.0    5.0    7.0    9.0\n",
       "Population  5034.0    1.334724   1.020843  0.0   1.0    1.0    2.0    4.0\n",
       "Emission    5034.0    3.130314   2.810687  0.0   0.0    3.0    6.0    7.0\n",
       "Zone        5034.0    1.472785   1.271176  0.0   0.0    1.0    3.0    3.0"
      ]
     },
     "execution_count": 18,
     "metadata": {},
     "output_type": "execute_result"
    }
   ],
   "source": [
    "emissions_CH4_df.describe().T"
   ]
  },
  {
   "cell_type": "code",
   "execution_count": 19,
   "id": "2907237b",
   "metadata": {},
   "outputs": [
    {
     "data": {
      "text/html": [
       "<div>\n",
       "<style scoped>\n",
       "    .dataframe tbody tr th:only-of-type {\n",
       "        vertical-align: middle;\n",
       "    }\n",
       "\n",
       "    .dataframe tbody tr th {\n",
       "        vertical-align: top;\n",
       "    }\n",
       "\n",
       "    .dataframe thead th {\n",
       "        text-align: right;\n",
       "    }\n",
       "</style>\n",
       "<table border=\"1\" class=\"dataframe\">\n",
       "  <thead>\n",
       "    <tr style=\"text-align: right;\">\n",
       "      <th></th>\n",
       "      <th>Area_Code</th>\n",
       "      <th>Item_Code</th>\n",
       "      <th>Year</th>\n",
       "      <th>Population</th>\n",
       "      <th>Emission</th>\n",
       "      <th>Zone</th>\n",
       "    </tr>\n",
       "  </thead>\n",
       "  <tbody>\n",
       "    <tr>\n",
       "      <th>844176</th>\n",
       "      <td>237</td>\n",
       "      <td>2</td>\n",
       "      <td>9</td>\n",
       "      <td>2</td>\n",
       "      <td>7</td>\n",
       "      <td>3</td>\n",
       "    </tr>\n",
       "    <tr>\n",
       "      <th>844199</th>\n",
       "      <td>237</td>\n",
       "      <td>3</td>\n",
       "      <td>9</td>\n",
       "      <td>2</td>\n",
       "      <td>1</td>\n",
       "      <td>1</td>\n",
       "    </tr>\n",
       "    <tr>\n",
       "      <th>844214</th>\n",
       "      <td>237</td>\n",
       "      <td>5</td>\n",
       "      <td>9</td>\n",
       "      <td>2</td>\n",
       "      <td>0</td>\n",
       "      <td>0</td>\n",
       "    </tr>\n",
       "    <tr>\n",
       "      <th>844224</th>\n",
       "      <td>237</td>\n",
       "      <td>6</td>\n",
       "      <td>9</td>\n",
       "      <td>2</td>\n",
       "      <td>0</td>\n",
       "      <td>0</td>\n",
       "    </tr>\n",
       "    <tr>\n",
       "      <th>844281</th>\n",
       "      <td>237</td>\n",
       "      <td>4</td>\n",
       "      <td>9</td>\n",
       "      <td>2</td>\n",
       "      <td>0</td>\n",
       "      <td>0</td>\n",
       "    </tr>\n",
       "    <tr>\n",
       "      <th>844431</th>\n",
       "      <td>249</td>\n",
       "      <td>0</td>\n",
       "      <td>9</td>\n",
       "      <td>1</td>\n",
       "      <td>6</td>\n",
       "      <td>3</td>\n",
       "    </tr>\n",
       "    <tr>\n",
       "      <th>844434</th>\n",
       "      <td>249</td>\n",
       "      <td>1</td>\n",
       "      <td>9</td>\n",
       "      <td>1</td>\n",
       "      <td>0</td>\n",
       "      <td>0</td>\n",
       "    </tr>\n",
       "    <tr>\n",
       "      <th>844541</th>\n",
       "      <td>251</td>\n",
       "      <td>0</td>\n",
       "      <td>9</td>\n",
       "      <td>1</td>\n",
       "      <td>6</td>\n",
       "      <td>3</td>\n",
       "    </tr>\n",
       "    <tr>\n",
       "      <th>844544</th>\n",
       "      <td>251</td>\n",
       "      <td>1</td>\n",
       "      <td>9</td>\n",
       "      <td>1</td>\n",
       "      <td>0</td>\n",
       "      <td>0</td>\n",
       "    </tr>\n",
       "    <tr>\n",
       "      <th>844549</th>\n",
       "      <td>251</td>\n",
       "      <td>2</td>\n",
       "      <td>9</td>\n",
       "      <td>1</td>\n",
       "      <td>0</td>\n",
       "      <td>0</td>\n",
       "    </tr>\n",
       "    <tr>\n",
       "      <th>844572</th>\n",
       "      <td>251</td>\n",
       "      <td>3</td>\n",
       "      <td>9</td>\n",
       "      <td>1</td>\n",
       "      <td>0</td>\n",
       "      <td>0</td>\n",
       "    </tr>\n",
       "    <tr>\n",
       "      <th>844587</th>\n",
       "      <td>251</td>\n",
       "      <td>5</td>\n",
       "      <td>9</td>\n",
       "      <td>1</td>\n",
       "      <td>7</td>\n",
       "      <td>3</td>\n",
       "    </tr>\n",
       "    <tr>\n",
       "      <th>844597</th>\n",
       "      <td>251</td>\n",
       "      <td>6</td>\n",
       "      <td>9</td>\n",
       "      <td>1</td>\n",
       "      <td>7</td>\n",
       "      <td>3</td>\n",
       "    </tr>\n",
       "    <tr>\n",
       "      <th>844654</th>\n",
       "      <td>251</td>\n",
       "      <td>4</td>\n",
       "      <td>9</td>\n",
       "      <td>1</td>\n",
       "      <td>7</td>\n",
       "      <td>3</td>\n",
       "    </tr>\n",
       "    <tr>\n",
       "      <th>844660</th>\n",
       "      <td>181</td>\n",
       "      <td>0</td>\n",
       "      <td>9</td>\n",
       "      <td>1</td>\n",
       "      <td>7</td>\n",
       "      <td>3</td>\n",
       "    </tr>\n",
       "    <tr>\n",
       "      <th>844663</th>\n",
       "      <td>181</td>\n",
       "      <td>1</td>\n",
       "      <td>9</td>\n",
       "      <td>1</td>\n",
       "      <td>0</td>\n",
       "      <td>0</td>\n",
       "    </tr>\n",
       "    <tr>\n",
       "      <th>844668</th>\n",
       "      <td>181</td>\n",
       "      <td>2</td>\n",
       "      <td>9</td>\n",
       "      <td>1</td>\n",
       "      <td>0</td>\n",
       "      <td>0</td>\n",
       "    </tr>\n",
       "    <tr>\n",
       "      <th>844691</th>\n",
       "      <td>181</td>\n",
       "      <td>3</td>\n",
       "      <td>9</td>\n",
       "      <td>1</td>\n",
       "      <td>0</td>\n",
       "      <td>0</td>\n",
       "    </tr>\n",
       "    <tr>\n",
       "      <th>844700</th>\n",
       "      <td>181</td>\n",
       "      <td>5</td>\n",
       "      <td>9</td>\n",
       "      <td>1</td>\n",
       "      <td>4</td>\n",
       "      <td>2</td>\n",
       "    </tr>\n",
       "    <tr>\n",
       "      <th>844710</th>\n",
       "      <td>181</td>\n",
       "      <td>6</td>\n",
       "      <td>9</td>\n",
       "      <td>1</td>\n",
       "      <td>0</td>\n",
       "      <td>0</td>\n",
       "    </tr>\n",
       "  </tbody>\n",
       "</table>\n",
       "</div>"
      ],
      "text/plain": [
       "        Area_Code  Item_Code  Year  Population  Emission  Zone\n",
       "844176        237          2     9           2         7     3\n",
       "844199        237          3     9           2         1     1\n",
       "844214        237          5     9           2         0     0\n",
       "844224        237          6     9           2         0     0\n",
       "844281        237          4     9           2         0     0\n",
       "844431        249          0     9           1         6     3\n",
       "844434        249          1     9           1         0     0\n",
       "844541        251          0     9           1         6     3\n",
       "844544        251          1     9           1         0     0\n",
       "844549        251          2     9           1         0     0\n",
       "844572        251          3     9           1         0     0\n",
       "844587        251          5     9           1         7     3\n",
       "844597        251          6     9           1         7     3\n",
       "844654        251          4     9           1         7     3\n",
       "844660        181          0     9           1         7     3\n",
       "844663        181          1     9           1         0     0\n",
       "844668        181          2     9           1         0     0\n",
       "844691        181          3     9           1         0     0\n",
       "844700        181          5     9           1         4     2\n",
       "844710        181          6     9           1         0     0"
      ]
     },
     "execution_count": 19,
     "metadata": {},
     "output_type": "execute_result"
    }
   ],
   "source": [
    "emissions_CH4_df.tail(20) "
   ]
  },
  {
   "cell_type": "code",
   "execution_count": 20,
   "id": "78cd5c75",
   "metadata": {},
   "outputs": [
    {
     "data": {
      "text/plain": [
       "Area_Code     120\n",
       "Item_Code       9\n",
       "Year            9\n",
       "Population      5\n",
       "Emission        8\n",
       "Zone            4\n",
       "dtype: int64"
      ]
     },
     "execution_count": 20,
     "metadata": {},
     "output_type": "execute_result"
    }
   ],
   "source": [
    "emissions_CH4_df.nunique()"
   ]
  },
  {
   "cell_type": "code",
   "execution_count": 21,
   "id": "304b44e6",
   "metadata": {},
   "outputs": [
    {
     "data": {
      "text/plain": [
       "0    1776\n",
       "7     971\n",
       "5     508\n",
       "6     507\n",
       "3     372\n",
       "4     370\n",
       "1     277\n",
       "2     253\n",
       "Name: Emission, dtype: int64"
      ]
     },
     "execution_count": 21,
     "metadata": {},
     "output_type": "execute_result"
    }
   ],
   "source": [
    "emissions_CH4_df[\"Emission\"].value_counts()"
   ]
  },
  {
   "cell_type": "code",
   "execution_count": 22,
   "id": "4a24c42e",
   "metadata": {},
   "outputs": [
    {
     "data": {
      "text/plain": [
       "0    1776\n",
       "3    1663\n",
       "2     830\n",
       "1     765\n",
       "Name: Zone, dtype: int64"
      ]
     },
     "execution_count": 22,
     "metadata": {},
     "output_type": "execute_result"
    }
   ],
   "source": [
    "emissions_CH4_df[\"Zone\"].value_counts()"
   ]
  },
  {
   "cell_type": "code",
   "execution_count": 23,
   "id": "19912f9b",
   "metadata": {},
   "outputs": [
    {
     "data": {
      "text/plain": [
       "1    2651\n",
       "0     854\n",
       "2     717\n",
       "3     614\n",
       "4     198\n",
       "Name: Population, dtype: int64"
      ]
     },
     "execution_count": 23,
     "metadata": {},
     "output_type": "execute_result"
    }
   ],
   "source": [
    "emissions_CH4_df[\"Population\"].value_counts()"
   ]
  },
  {
   "cell_type": "markdown",
   "id": "1cf0abd4",
   "metadata": {},
   "source": [
    "## Machine Learning\n",
    "\n",
    "Data cleaning and classification parts are done for the input features.\n",
    "\n",
    "Machine learning methods that predict the future Emission depends on many factors like soil temperature,air moisture,Volumetric Water Content(VWC). So, we end up with Classification algorithms which will help us identifying the Emission values into different Zones for each Elements (N2O, CH4, CO2). \n",
    "\n",
    "As we have **Imbalanced Emission values** depending on the Country size and population we just can't classify the Zones into Binary vlaues. **Multiclass classification** is the problem of classifying instances into one of three or more classes.\n",
    "\n",
    "#### Popular algorithms that can be used for multi-class classification include:\n",
    "\n",
    "Logistic regression\n",
    "\n",
    "Decision Trees\n",
    "\n",
    "Random Forest\n",
    "\n",
    "Naive Bayes\n",
    "\n",
    "k-Nearest Neighbors\n",
    "\n",
    "Gradient Boosting\n",
    "\n",
    "\n",
    "**Logistic regression** is a simple yet very effective classification algorithm. Multinomial logistic regression is an extension of logistic regression that adds native support for multi-class classification problems. So, we are starting with this algorithm. "
   ]
  },
  {
   "cell_type": "code",
   "execution_count": 24,
   "id": "732cc1b7",
   "metadata": {},
   "outputs": [],
   "source": [
    "emissions_CH4_df.reset_index(inplace=True, drop=True)"
   ]
  },
  {
   "cell_type": "code",
   "execution_count": 25,
   "id": "5d04564e",
   "metadata": {},
   "outputs": [
    {
     "data": {
      "text/html": [
       "<div>\n",
       "<style scoped>\n",
       "    .dataframe tbody tr th:only-of-type {\n",
       "        vertical-align: middle;\n",
       "    }\n",
       "\n",
       "    .dataframe tbody tr th {\n",
       "        vertical-align: top;\n",
       "    }\n",
       "\n",
       "    .dataframe thead th {\n",
       "        text-align: right;\n",
       "    }\n",
       "</style>\n",
       "<table border=\"1\" class=\"dataframe\">\n",
       "  <thead>\n",
       "    <tr style=\"text-align: right;\">\n",
       "      <th></th>\n",
       "      <th>Area_Code</th>\n",
       "      <th>Item_Code</th>\n",
       "      <th>Year</th>\n",
       "      <th>Population</th>\n",
       "      <th>Emission</th>\n",
       "      <th>Zone</th>\n",
       "    </tr>\n",
       "  </thead>\n",
       "  <tbody>\n",
       "    <tr>\n",
       "      <th>0</th>\n",
       "      <td>2</td>\n",
       "      <td>0</td>\n",
       "      <td>1</td>\n",
       "      <td>1</td>\n",
       "      <td>7</td>\n",
       "      <td>3</td>\n",
       "    </tr>\n",
       "    <tr>\n",
       "      <th>1</th>\n",
       "      <td>2</td>\n",
       "      <td>1</td>\n",
       "      <td>1</td>\n",
       "      <td>1</td>\n",
       "      <td>3</td>\n",
       "      <td>2</td>\n",
       "    </tr>\n",
       "    <tr>\n",
       "      <th>2</th>\n",
       "      <td>2</td>\n",
       "      <td>2</td>\n",
       "      <td>1</td>\n",
       "      <td>1</td>\n",
       "      <td>3</td>\n",
       "      <td>2</td>\n",
       "    </tr>\n",
       "    <tr>\n",
       "      <th>3</th>\n",
       "      <td>2</td>\n",
       "      <td>3</td>\n",
       "      <td>1</td>\n",
       "      <td>1</td>\n",
       "      <td>0</td>\n",
       "      <td>0</td>\n",
       "    </tr>\n",
       "    <tr>\n",
       "      <th>4</th>\n",
       "      <td>4</td>\n",
       "      <td>0</td>\n",
       "      <td>1</td>\n",
       "      <td>1</td>\n",
       "      <td>7</td>\n",
       "      <td>3</td>\n",
       "    </tr>\n",
       "    <tr>\n",
       "      <th>...</th>\n",
       "      <td>...</td>\n",
       "      <td>...</td>\n",
       "      <td>...</td>\n",
       "      <td>...</td>\n",
       "      <td>...</td>\n",
       "      <td>...</td>\n",
       "    </tr>\n",
       "    <tr>\n",
       "      <th>5029</th>\n",
       "      <td>181</td>\n",
       "      <td>1</td>\n",
       "      <td>9</td>\n",
       "      <td>1</td>\n",
       "      <td>0</td>\n",
       "      <td>0</td>\n",
       "    </tr>\n",
       "    <tr>\n",
       "      <th>5030</th>\n",
       "      <td>181</td>\n",
       "      <td>2</td>\n",
       "      <td>9</td>\n",
       "      <td>1</td>\n",
       "      <td>0</td>\n",
       "      <td>0</td>\n",
       "    </tr>\n",
       "    <tr>\n",
       "      <th>5031</th>\n",
       "      <td>181</td>\n",
       "      <td>3</td>\n",
       "      <td>9</td>\n",
       "      <td>1</td>\n",
       "      <td>0</td>\n",
       "      <td>0</td>\n",
       "    </tr>\n",
       "    <tr>\n",
       "      <th>5032</th>\n",
       "      <td>181</td>\n",
       "      <td>5</td>\n",
       "      <td>9</td>\n",
       "      <td>1</td>\n",
       "      <td>4</td>\n",
       "      <td>2</td>\n",
       "    </tr>\n",
       "    <tr>\n",
       "      <th>5033</th>\n",
       "      <td>181</td>\n",
       "      <td>6</td>\n",
       "      <td>9</td>\n",
       "      <td>1</td>\n",
       "      <td>0</td>\n",
       "      <td>0</td>\n",
       "    </tr>\n",
       "  </tbody>\n",
       "</table>\n",
       "<p>5034 rows × 6 columns</p>\n",
       "</div>"
      ],
      "text/plain": [
       "      Area_Code  Item_Code  Year  Population  Emission  Zone\n",
       "0             2          0     1           1         7     3\n",
       "1             2          1     1           1         3     2\n",
       "2             2          2     1           1         3     2\n",
       "3             2          3     1           1         0     0\n",
       "4             4          0     1           1         7     3\n",
       "...         ...        ...   ...         ...       ...   ...\n",
       "5029        181          1     9           1         0     0\n",
       "5030        181          2     9           1         0     0\n",
       "5031        181          3     9           1         0     0\n",
       "5032        181          5     9           1         4     2\n",
       "5033        181          6     9           1         0     0\n",
       "\n",
       "[5034 rows x 6 columns]"
      ]
     },
     "execution_count": 25,
     "metadata": {},
     "output_type": "execute_result"
    }
   ],
   "source": [
    "emissions_CH4_df"
   ]
  },
  {
   "cell_type": "code",
   "execution_count": 26,
   "id": "306cc13b",
   "metadata": {},
   "outputs": [],
   "source": [
    "# Segment the features from the target\n",
    "X = emissions_CH4_df[[\"Item_Code\", \"Year\", \"Population\", \"Emission\"]]\n",
    "y = emissions_CH4_df[[\"Zone\"]]"
   ]
  },
  {
   "cell_type": "code",
   "execution_count": 27,
   "id": "544608c1",
   "metadata": {},
   "outputs": [
    {
     "data": {
      "text/html": [
       "<div>\n",
       "<style scoped>\n",
       "    .dataframe tbody tr th:only-of-type {\n",
       "        vertical-align: middle;\n",
       "    }\n",
       "\n",
       "    .dataframe tbody tr th {\n",
       "        vertical-align: top;\n",
       "    }\n",
       "\n",
       "    .dataframe thead th {\n",
       "        text-align: right;\n",
       "    }\n",
       "</style>\n",
       "<table border=\"1\" class=\"dataframe\">\n",
       "  <thead>\n",
       "    <tr style=\"text-align: right;\">\n",
       "      <th></th>\n",
       "      <th>Item_Code</th>\n",
       "      <th>Year</th>\n",
       "      <th>Population</th>\n",
       "      <th>Emission</th>\n",
       "    </tr>\n",
       "  </thead>\n",
       "  <tbody>\n",
       "    <tr>\n",
       "      <th>0</th>\n",
       "      <td>0</td>\n",
       "      <td>1</td>\n",
       "      <td>1</td>\n",
       "      <td>7</td>\n",
       "    </tr>\n",
       "    <tr>\n",
       "      <th>1</th>\n",
       "      <td>1</td>\n",
       "      <td>1</td>\n",
       "      <td>1</td>\n",
       "      <td>3</td>\n",
       "    </tr>\n",
       "    <tr>\n",
       "      <th>2</th>\n",
       "      <td>2</td>\n",
       "      <td>1</td>\n",
       "      <td>1</td>\n",
       "      <td>3</td>\n",
       "    </tr>\n",
       "    <tr>\n",
       "      <th>3</th>\n",
       "      <td>3</td>\n",
       "      <td>1</td>\n",
       "      <td>1</td>\n",
       "      <td>0</td>\n",
       "    </tr>\n",
       "    <tr>\n",
       "      <th>4</th>\n",
       "      <td>0</td>\n",
       "      <td>1</td>\n",
       "      <td>1</td>\n",
       "      <td>7</td>\n",
       "    </tr>\n",
       "    <tr>\n",
       "      <th>...</th>\n",
       "      <td>...</td>\n",
       "      <td>...</td>\n",
       "      <td>...</td>\n",
       "      <td>...</td>\n",
       "    </tr>\n",
       "    <tr>\n",
       "      <th>5029</th>\n",
       "      <td>1</td>\n",
       "      <td>9</td>\n",
       "      <td>1</td>\n",
       "      <td>0</td>\n",
       "    </tr>\n",
       "    <tr>\n",
       "      <th>5030</th>\n",
       "      <td>2</td>\n",
       "      <td>9</td>\n",
       "      <td>1</td>\n",
       "      <td>0</td>\n",
       "    </tr>\n",
       "    <tr>\n",
       "      <th>5031</th>\n",
       "      <td>3</td>\n",
       "      <td>9</td>\n",
       "      <td>1</td>\n",
       "      <td>0</td>\n",
       "    </tr>\n",
       "    <tr>\n",
       "      <th>5032</th>\n",
       "      <td>5</td>\n",
       "      <td>9</td>\n",
       "      <td>1</td>\n",
       "      <td>4</td>\n",
       "    </tr>\n",
       "    <tr>\n",
       "      <th>5033</th>\n",
       "      <td>6</td>\n",
       "      <td>9</td>\n",
       "      <td>1</td>\n",
       "      <td>0</td>\n",
       "    </tr>\n",
       "  </tbody>\n",
       "</table>\n",
       "<p>5034 rows × 4 columns</p>\n",
       "</div>"
      ],
      "text/plain": [
       "      Item_Code  Year  Population  Emission\n",
       "0             0     1           1         7\n",
       "1             1     1           1         3\n",
       "2             2     1           1         3\n",
       "3             3     1           1         0\n",
       "4             0     1           1         7\n",
       "...         ...   ...         ...       ...\n",
       "5029          1     9           1         0\n",
       "5030          2     9           1         0\n",
       "5031          3     9           1         0\n",
       "5032          5     9           1         4\n",
       "5033          6     9           1         0\n",
       "\n",
       "[5034 rows x 4 columns]"
      ]
     },
     "execution_count": 27,
     "metadata": {},
     "output_type": "execute_result"
    }
   ],
   "source": [
    "X"
   ]
  },
  {
   "cell_type": "code",
   "execution_count": 28,
   "id": "c73f798d",
   "metadata": {},
   "outputs": [
    {
     "data": {
      "text/html": [
       "<div>\n",
       "<style scoped>\n",
       "    .dataframe tbody tr th:only-of-type {\n",
       "        vertical-align: middle;\n",
       "    }\n",
       "\n",
       "    .dataframe tbody tr th {\n",
       "        vertical-align: top;\n",
       "    }\n",
       "\n",
       "    .dataframe thead th {\n",
       "        text-align: right;\n",
       "    }\n",
       "</style>\n",
       "<table border=\"1\" class=\"dataframe\">\n",
       "  <thead>\n",
       "    <tr style=\"text-align: right;\">\n",
       "      <th></th>\n",
       "      <th>Zone</th>\n",
       "    </tr>\n",
       "  </thead>\n",
       "  <tbody>\n",
       "    <tr>\n",
       "      <th>0</th>\n",
       "      <td>3</td>\n",
       "    </tr>\n",
       "    <tr>\n",
       "      <th>1</th>\n",
       "      <td>2</td>\n",
       "    </tr>\n",
       "    <tr>\n",
       "      <th>2</th>\n",
       "      <td>2</td>\n",
       "    </tr>\n",
       "    <tr>\n",
       "      <th>3</th>\n",
       "      <td>0</td>\n",
       "    </tr>\n",
       "    <tr>\n",
       "      <th>4</th>\n",
       "      <td>3</td>\n",
       "    </tr>\n",
       "    <tr>\n",
       "      <th>...</th>\n",
       "      <td>...</td>\n",
       "    </tr>\n",
       "    <tr>\n",
       "      <th>5029</th>\n",
       "      <td>0</td>\n",
       "    </tr>\n",
       "    <tr>\n",
       "      <th>5030</th>\n",
       "      <td>0</td>\n",
       "    </tr>\n",
       "    <tr>\n",
       "      <th>5031</th>\n",
       "      <td>0</td>\n",
       "    </tr>\n",
       "    <tr>\n",
       "      <th>5032</th>\n",
       "      <td>2</td>\n",
       "    </tr>\n",
       "    <tr>\n",
       "      <th>5033</th>\n",
       "      <td>0</td>\n",
       "    </tr>\n",
       "  </tbody>\n",
       "</table>\n",
       "<p>5034 rows × 1 columns</p>\n",
       "</div>"
      ],
      "text/plain": [
       "      Zone\n",
       "0        3\n",
       "1        2\n",
       "2        2\n",
       "3        0\n",
       "4        3\n",
       "...    ...\n",
       "5029     0\n",
       "5030     0\n",
       "5031     0\n",
       "5032     2\n",
       "5033     0\n",
       "\n",
       "[5034 rows x 1 columns]"
      ]
     },
     "execution_count": 28,
     "metadata": {},
     "output_type": "execute_result"
    }
   ],
   "source": [
    "#y = y.ravel()\n",
    "y"
   ]
  },
  {
   "cell_type": "code",
   "execution_count": 29,
   "id": "9e13369e",
   "metadata": {},
   "outputs": [
    {
     "data": {
      "text/html": [
       "<div>\n",
       "<style scoped>\n",
       "    .dataframe tbody tr th:only-of-type {\n",
       "        vertical-align: middle;\n",
       "    }\n",
       "\n",
       "    .dataframe tbody tr th {\n",
       "        vertical-align: top;\n",
       "    }\n",
       "\n",
       "    .dataframe thead th {\n",
       "        text-align: right;\n",
       "    }\n",
       "</style>\n",
       "<table border=\"1\" class=\"dataframe\">\n",
       "  <thead>\n",
       "    <tr style=\"text-align: right;\">\n",
       "      <th></th>\n",
       "      <th>Area_Code</th>\n",
       "      <th>Item_Code</th>\n",
       "      <th>Year</th>\n",
       "      <th>Population</th>\n",
       "      <th>Emission</th>\n",
       "      <th>Zone</th>\n",
       "    </tr>\n",
       "  </thead>\n",
       "  <tbody>\n",
       "    <tr>\n",
       "      <th>0</th>\n",
       "      <td>2</td>\n",
       "      <td>0</td>\n",
       "      <td>1</td>\n",
       "      <td>1</td>\n",
       "      <td>7</td>\n",
       "      <td>3</td>\n",
       "    </tr>\n",
       "    <tr>\n",
       "      <th>1</th>\n",
       "      <td>2</td>\n",
       "      <td>1</td>\n",
       "      <td>1</td>\n",
       "      <td>1</td>\n",
       "      <td>3</td>\n",
       "      <td>2</td>\n",
       "    </tr>\n",
       "    <tr>\n",
       "      <th>2</th>\n",
       "      <td>2</td>\n",
       "      <td>2</td>\n",
       "      <td>1</td>\n",
       "      <td>1</td>\n",
       "      <td>3</td>\n",
       "      <td>2</td>\n",
       "    </tr>\n",
       "    <tr>\n",
       "      <th>3</th>\n",
       "      <td>2</td>\n",
       "      <td>3</td>\n",
       "      <td>1</td>\n",
       "      <td>1</td>\n",
       "      <td>0</td>\n",
       "      <td>0</td>\n",
       "    </tr>\n",
       "    <tr>\n",
       "      <th>4</th>\n",
       "      <td>4</td>\n",
       "      <td>0</td>\n",
       "      <td>1</td>\n",
       "      <td>1</td>\n",
       "      <td>7</td>\n",
       "      <td>3</td>\n",
       "    </tr>\n",
       "    <tr>\n",
       "      <th>...</th>\n",
       "      <td>...</td>\n",
       "      <td>...</td>\n",
       "      <td>...</td>\n",
       "      <td>...</td>\n",
       "      <td>...</td>\n",
       "      <td>...</td>\n",
       "    </tr>\n",
       "    <tr>\n",
       "      <th>5029</th>\n",
       "      <td>181</td>\n",
       "      <td>1</td>\n",
       "      <td>9</td>\n",
       "      <td>1</td>\n",
       "      <td>0</td>\n",
       "      <td>0</td>\n",
       "    </tr>\n",
       "    <tr>\n",
       "      <th>5030</th>\n",
       "      <td>181</td>\n",
       "      <td>2</td>\n",
       "      <td>9</td>\n",
       "      <td>1</td>\n",
       "      <td>0</td>\n",
       "      <td>0</td>\n",
       "    </tr>\n",
       "    <tr>\n",
       "      <th>5031</th>\n",
       "      <td>181</td>\n",
       "      <td>3</td>\n",
       "      <td>9</td>\n",
       "      <td>1</td>\n",
       "      <td>0</td>\n",
       "      <td>0</td>\n",
       "    </tr>\n",
       "    <tr>\n",
       "      <th>5032</th>\n",
       "      <td>181</td>\n",
       "      <td>5</td>\n",
       "      <td>9</td>\n",
       "      <td>1</td>\n",
       "      <td>4</td>\n",
       "      <td>2</td>\n",
       "    </tr>\n",
       "    <tr>\n",
       "      <th>5033</th>\n",
       "      <td>181</td>\n",
       "      <td>6</td>\n",
       "      <td>9</td>\n",
       "      <td>1</td>\n",
       "      <td>0</td>\n",
       "      <td>0</td>\n",
       "    </tr>\n",
       "  </tbody>\n",
       "</table>\n",
       "<p>5034 rows × 6 columns</p>\n",
       "</div>"
      ],
      "text/plain": [
       "      Area_Code  Item_Code  Year  Population  Emission  Zone\n",
       "0             2          0     1           1         7     3\n",
       "1             2          1     1           1         3     2\n",
       "2             2          2     1           1         3     2\n",
       "3             2          3     1           1         0     0\n",
       "4             4          0     1           1         7     3\n",
       "...         ...        ...   ...         ...       ...   ...\n",
       "5029        181          1     9           1         0     0\n",
       "5030        181          2     9           1         0     0\n",
       "5031        181          3     9           1         0     0\n",
       "5032        181          5     9           1         4     2\n",
       "5033        181          6     9           1         0     0\n",
       "\n",
       "[5034 rows x 6 columns]"
      ]
     },
     "execution_count": 29,
     "metadata": {},
     "output_type": "execute_result"
    }
   ],
   "source": [
    "emissions_CH4_df"
   ]
  },
  {
   "cell_type": "code",
   "execution_count": 30,
   "id": "0d1a9c28",
   "metadata": {},
   "outputs": [
    {
     "data": {
      "text/plain": [
       "(5034, 4)"
      ]
     },
     "execution_count": 30,
     "metadata": {},
     "output_type": "execute_result"
    }
   ],
   "source": [
    "np.shape(X)"
   ]
  },
  {
   "cell_type": "code",
   "execution_count": 31,
   "id": "666ea457",
   "metadata": {},
   "outputs": [
    {
     "data": {
      "text/plain": [
       "(5034, 1)"
      ]
     },
     "execution_count": 31,
     "metadata": {},
     "output_type": "execute_result"
    }
   ],
   "source": [
    "np.shape(y)"
   ]
  },
  {
   "cell_type": "code",
   "execution_count": 32,
   "id": "f0eaea9f",
   "metadata": {},
   "outputs": [
    {
     "name": "stdout",
     "output_type": "stream",
     "text": [
      "(4027, 4)\n",
      "(1007, 4)\n",
      "(4027, 1)\n",
      "(1007, 1)\n"
     ]
    }
   ],
   "source": [
    "test_sizes = 0.20\n",
    "seed = 1\n",
    "X_train, X_test, Y_train, Y_test = train_test_split(X, y, test_size=test_sizes, random_state=seed, stratify=y)\n",
    "print(X_train.shape)\n",
    "print(X_test.shape)\n",
    "print(Y_train.shape)\n",
    "print(Y_test.shape)"
   ]
  },
  {
   "cell_type": "code",
   "execution_count": 33,
   "id": "bfba28eb",
   "metadata": {},
   "outputs": [],
   "source": [
    "#model = LogisticRegression()\n",
    "model = LogisticRegression(multi_class='multinomial', solver='lbfgs')"
   ]
  },
  {
   "cell_type": "code",
   "execution_count": 34,
   "id": "b8d9a58c",
   "metadata": {},
   "outputs": [
    {
     "data": {
      "text/plain": [
       "LogisticRegression(multi_class='multinomial')"
      ]
     },
     "execution_count": 34,
     "metadata": {},
     "output_type": "execute_result"
    }
   ],
   "source": [
    "a = model.fit(X_train, Y_train)\n",
    "a"
   ]
  },
  {
   "cell_type": "code",
   "execution_count": 35,
   "id": "65367894",
   "metadata": {},
   "outputs": [],
   "source": [
    "predictions = model.predict(X_test)"
   ]
  },
  {
   "cell_type": "code",
   "execution_count": 36,
   "id": "7cd81aed",
   "metadata": {},
   "outputs": [
    {
     "data": {
      "text/plain": [
       "array([0, 3, 0, ..., 0, 2, 2])"
      ]
     },
     "execution_count": 36,
     "metadata": {},
     "output_type": "execute_result"
    }
   ],
   "source": [
    "predictions"
   ]
  },
  {
   "cell_type": "code",
   "execution_count": 37,
   "id": "bc47162b",
   "metadata": {},
   "outputs": [
    {
     "data": {
      "text/html": [
       "<div>\n",
       "<style scoped>\n",
       "    .dataframe tbody tr th:only-of-type {\n",
       "        vertical-align: middle;\n",
       "    }\n",
       "\n",
       "    .dataframe tbody tr th {\n",
       "        vertical-align: top;\n",
       "    }\n",
       "\n",
       "    .dataframe thead th {\n",
       "        text-align: right;\n",
       "    }\n",
       "</style>\n",
       "<table border=\"1\" class=\"dataframe\">\n",
       "  <thead>\n",
       "    <tr style=\"text-align: right;\">\n",
       "      <th></th>\n",
       "      <th>Item_Code</th>\n",
       "      <th>Year</th>\n",
       "      <th>Population</th>\n",
       "      <th>Emission</th>\n",
       "    </tr>\n",
       "  </thead>\n",
       "  <tbody>\n",
       "    <tr>\n",
       "      <th>2006</th>\n",
       "      <td>0</td>\n",
       "      <td>4</td>\n",
       "      <td>1</td>\n",
       "      <td>7</td>\n",
       "    </tr>\n",
       "    <tr>\n",
       "      <th>2382</th>\n",
       "      <td>3</td>\n",
       "      <td>5</td>\n",
       "      <td>1</td>\n",
       "      <td>0</td>\n",
       "    </tr>\n",
       "    <tr>\n",
       "      <th>1441</th>\n",
       "      <td>6</td>\n",
       "      <td>3</td>\n",
       "      <td>2</td>\n",
       "      <td>6</td>\n",
       "    </tr>\n",
       "    <tr>\n",
       "      <th>4206</th>\n",
       "      <td>3</td>\n",
       "      <td>8</td>\n",
       "      <td>1</td>\n",
       "      <td>0</td>\n",
       "    </tr>\n",
       "    <tr>\n",
       "      <th>3550</th>\n",
       "      <td>2</td>\n",
       "      <td>7</td>\n",
       "      <td>1</td>\n",
       "      <td>2</td>\n",
       "    </tr>\n",
       "    <tr>\n",
       "      <th>...</th>\n",
       "      <td>...</td>\n",
       "      <td>...</td>\n",
       "      <td>...</td>\n",
       "      <td>...</td>\n",
       "    </tr>\n",
       "    <tr>\n",
       "      <th>1572</th>\n",
       "      <td>1</td>\n",
       "      <td>3</td>\n",
       "      <td>0</td>\n",
       "      <td>3</td>\n",
       "    </tr>\n",
       "    <tr>\n",
       "      <th>2675</th>\n",
       "      <td>5</td>\n",
       "      <td>5</td>\n",
       "      <td>2</td>\n",
       "      <td>4</td>\n",
       "    </tr>\n",
       "    <tr>\n",
       "      <th>4071</th>\n",
       "      <td>6</td>\n",
       "      <td>8</td>\n",
       "      <td>2</td>\n",
       "      <td>7</td>\n",
       "    </tr>\n",
       "    <tr>\n",
       "      <th>3223</th>\n",
       "      <td>5</td>\n",
       "      <td>6</td>\n",
       "      <td>1</td>\n",
       "      <td>4</td>\n",
       "    </tr>\n",
       "    <tr>\n",
       "      <th>4238</th>\n",
       "      <td>6</td>\n",
       "      <td>8</td>\n",
       "      <td>1</td>\n",
       "      <td>7</td>\n",
       "    </tr>\n",
       "  </tbody>\n",
       "</table>\n",
       "<p>4027 rows × 4 columns</p>\n",
       "</div>"
      ],
      "text/plain": [
       "      Item_Code  Year  Population  Emission\n",
       "2006          0     4           1         7\n",
       "2382          3     5           1         0\n",
       "1441          6     3           2         6\n",
       "4206          3     8           1         0\n",
       "3550          2     7           1         2\n",
       "...         ...   ...         ...       ...\n",
       "1572          1     3           0         3\n",
       "2675          5     5           2         4\n",
       "4071          6     8           2         7\n",
       "3223          5     6           1         4\n",
       "4238          6     8           1         7\n",
       "\n",
       "[4027 rows x 4 columns]"
      ]
     },
     "execution_count": 37,
     "metadata": {},
     "output_type": "execute_result"
    }
   ],
   "source": [
    "X_train"
   ]
  },
  {
   "cell_type": "code",
   "execution_count": 38,
   "id": "dde2e83b",
   "metadata": {},
   "outputs": [
    {
     "name": "stdout",
     "output_type": "stream",
     "text": [
      "0.94240317775571\n"
     ]
    }
   ],
   "source": [
    "X_test\n",
    "print(a.score(X_test, Y_test))"
   ]
  },
  {
   "cell_type": "code",
   "execution_count": 39,
   "id": "df12c71c",
   "metadata": {},
   "outputs": [
    {
     "data": {
      "text/html": [
       "<div>\n",
       "<style scoped>\n",
       "    .dataframe tbody tr th:only-of-type {\n",
       "        vertical-align: middle;\n",
       "    }\n",
       "\n",
       "    .dataframe tbody tr th {\n",
       "        vertical-align: top;\n",
       "    }\n",
       "\n",
       "    .dataframe thead th {\n",
       "        text-align: right;\n",
       "    }\n",
       "</style>\n",
       "<table border=\"1\" class=\"dataframe\">\n",
       "  <thead>\n",
       "    <tr style=\"text-align: right;\">\n",
       "      <th></th>\n",
       "      <th>Zone</th>\n",
       "    </tr>\n",
       "  </thead>\n",
       "  <tbody>\n",
       "    <tr>\n",
       "      <th>1145</th>\n",
       "      <td>0</td>\n",
       "    </tr>\n",
       "    <tr>\n",
       "      <th>4884</th>\n",
       "      <td>3</td>\n",
       "    </tr>\n",
       "    <tr>\n",
       "      <th>1871</th>\n",
       "      <td>0</td>\n",
       "    </tr>\n",
       "    <tr>\n",
       "      <th>4349</th>\n",
       "      <td>2</td>\n",
       "    </tr>\n",
       "    <tr>\n",
       "      <th>63</th>\n",
       "      <td>2</td>\n",
       "    </tr>\n",
       "    <tr>\n",
       "      <th>...</th>\n",
       "      <td>...</td>\n",
       "    </tr>\n",
       "    <tr>\n",
       "      <th>2713</th>\n",
       "      <td>2</td>\n",
       "    </tr>\n",
       "    <tr>\n",
       "      <th>216</th>\n",
       "      <td>0</td>\n",
       "    </tr>\n",
       "    <tr>\n",
       "      <th>4236</th>\n",
       "      <td>0</td>\n",
       "    </tr>\n",
       "    <tr>\n",
       "      <th>3816</th>\n",
       "      <td>2</td>\n",
       "    </tr>\n",
       "    <tr>\n",
       "      <th>4873</th>\n",
       "      <td>2</td>\n",
       "    </tr>\n",
       "  </tbody>\n",
       "</table>\n",
       "<p>1007 rows × 1 columns</p>\n",
       "</div>"
      ],
      "text/plain": [
       "      Zone\n",
       "1145     0\n",
       "4884     3\n",
       "1871     0\n",
       "4349     2\n",
       "63       2\n",
       "...    ...\n",
       "2713     2\n",
       "216      0\n",
       "4236     0\n",
       "3816     2\n",
       "4873     2\n",
       "\n",
       "[1007 rows x 1 columns]"
      ]
     },
     "execution_count": 39,
     "metadata": {},
     "output_type": "execute_result"
    }
   ],
   "source": [
    "Y_test"
   ]
  },
  {
   "cell_type": "code",
   "execution_count": 40,
   "id": "7ebd3214",
   "metadata": {},
   "outputs": [
    {
     "data": {
      "text/plain": [
       "array([0, 3, 0, ..., 0, 2, 2])"
      ]
     },
     "execution_count": 40,
     "metadata": {},
     "output_type": "execute_result"
    }
   ],
   "source": [
    "predictions"
   ]
  },
  {
   "cell_type": "code",
   "execution_count": 41,
   "id": "a320aa75",
   "metadata": {},
   "outputs": [
    {
     "name": "stdout",
     "output_type": "stream",
     "text": [
      "              precision    recall  f1-score   support\n",
      "\n",
      "           0       1.00      1.00      1.00       355\n",
      "           1       0.86      1.00      0.92       153\n",
      "           2       0.82      0.83      0.83       166\n",
      "           3       0.99      0.91      0.95       333\n",
      "\n",
      "    accuracy                           0.94      1007\n",
      "   macro avg       0.92      0.94      0.92      1007\n",
      "weighted avg       0.95      0.94      0.94      1007\n",
      "\n"
     ]
    }
   ],
   "source": [
    "print(classification_report(Y_test, predictions))"
   ]
  },
  {
   "cell_type": "code",
   "execution_count": 42,
   "id": "e255848b",
   "metadata": {},
   "outputs": [
    {
     "data": {
      "text/plain": [
       "array([[355,   0,   0,   0],\n",
       "       [  0, 153,   0,   0],\n",
       "       [  0,  25, 138,   3],\n",
       "       [  0,   0,  30, 303]], dtype=int64)"
      ]
     },
     "execution_count": 42,
     "metadata": {},
     "output_type": "execute_result"
    }
   ],
   "source": [
    "confusion_matrix(Y_test, predictions)"
   ]
  },
  {
   "cell_type": "markdown",
   "id": "87cb50c1",
   "metadata": {},
   "source": [
    "## Random forest classifier\n",
    "\n",
    "A random forest classifier works with data having discrete labels or better known as class. \n",
    "\n",
    "#### Advantages of Random Forest\n",
    "\n",
    "It reduces overfitting in decision trees and helps to improve the accuracy\n",
    "\n",
    "It is flexible to both classification and regression problems\n",
    "\n",
    "It works well with both categorical and continuous values\n",
    "\n",
    "It automates missing values present in the data\n",
    "\n",
    "Normalising of data is not required as it uses a rule-based approach.\n"
   ]
  },
  {
   "cell_type": "markdown",
   "id": "b623b1de",
   "metadata": {},
   "source": [
    "### Emission Zone ( 0 , 1, 2, 3, 4)"
   ]
  },
  {
   "cell_type": "code",
   "execution_count": 43,
   "id": "aa224570",
   "metadata": {},
   "outputs": [
    {
     "data": {
      "text/plain": [
       "array([[  2,   0,   1,   1,   7,   3],\n",
       "       [  2,   1,   1,   1,   3,   2],\n",
       "       [  2,   2,   1,   1,   3,   2],\n",
       "       ...,\n",
       "       [181,   3,   9,   1,   0,   0],\n",
       "       [181,   5,   9,   1,   4,   2],\n",
       "       [181,   6,   9,   1,   0,   0]], dtype=int64)"
      ]
     },
     "execution_count": 43,
     "metadata": {},
     "output_type": "execute_result"
    }
   ],
   "source": [
    "emissions_CH4_array = np.asarray(emissions_CH4_df)\n",
    "emissions_CH4_array"
   ]
  },
  {
   "cell_type": "code",
   "execution_count": 44,
   "id": "7df871f2",
   "metadata": {},
   "outputs": [
    {
     "data": {
      "text/plain": [
       "array([[0, 1, 1, 7],\n",
       "       [1, 1, 1, 3],\n",
       "       [2, 1, 1, 3],\n",
       "       ...,\n",
       "       [3, 9, 1, 0],\n",
       "       [5, 9, 1, 4],\n",
       "       [6, 9, 1, 0]], dtype=int64)"
      ]
     },
     "execution_count": 44,
     "metadata": {},
     "output_type": "execute_result"
    }
   ],
   "source": [
    "X = emissions_CH4_array[:,1:5]\n",
    "X"
   ]
  },
  {
   "cell_type": "code",
   "execution_count": 45,
   "id": "5d5d922f",
   "metadata": {},
   "outputs": [
    {
     "data": {
      "text/plain": [
       "array([[3],\n",
       "       [2],\n",
       "       [2],\n",
       "       ...,\n",
       "       [0],\n",
       "       [2],\n",
       "       [0]], dtype=int64)"
      ]
     },
     "execution_count": 45,
     "metadata": {},
     "output_type": "execute_result"
    }
   ],
   "source": [
    "y = emissions_CH4_array[:,5:6]\n",
    "y"
   ]
  },
  {
   "cell_type": "code",
   "execution_count": 46,
   "id": "7cb95a54",
   "metadata": {},
   "outputs": [
    {
     "data": {
      "text/plain": [
       "(5034, 4)"
      ]
     },
     "execution_count": 46,
     "metadata": {},
     "output_type": "execute_result"
    }
   ],
   "source": [
    "np.shape(X)"
   ]
  },
  {
   "cell_type": "code",
   "execution_count": 47,
   "id": "cb8c26c1",
   "metadata": {},
   "outputs": [
    {
     "data": {
      "text/plain": [
       "(5034, 1)"
      ]
     },
     "execution_count": 47,
     "metadata": {},
     "output_type": "execute_result"
    }
   ],
   "source": [
    "np.shape(y)"
   ]
  },
  {
   "cell_type": "code",
   "execution_count": 49,
   "id": "40f3b26b",
   "metadata": {},
   "outputs": [
    {
     "name": "stdout",
     "output_type": "stream",
     "text": [
      "(4027, 4)\n",
      "(1007, 4)\n",
      "(4027, 1)\n",
      "(1007, 1)\n"
     ]
    }
   ],
   "source": [
    "test_sizes = 0.20\n",
    "seed = 1\n",
    "X_train, X_test, Y_train, Y_test = train_test_split(X, y, test_size = test_sizes, random_state =seed,stratify=y)\n",
    "print(X_train.shape)\n",
    "print(X_test.shape)\n",
    "print(Y_train.shape)\n",
    "print(Y_test.shape)"
   ]
  },
  {
   "cell_type": "code",
   "execution_count": 50,
   "id": "de1d3e15",
   "metadata": {},
   "outputs": [],
   "source": [
    "Emission_model = RandomForestClassifier(max_depth=2, random_state=0)"
   ]
  },
  {
   "cell_type": "code",
   "execution_count": 51,
   "id": "b103186e",
   "metadata": {},
   "outputs": [],
   "source": [
    "Emission_model_fit = Emission_model.fit(X_train, Y_train)"
   ]
  },
  {
   "cell_type": "code",
   "execution_count": 52,
   "id": "5f5b221b",
   "metadata": {},
   "outputs": [],
   "source": [
    "model_prediction = Emission_model_fit.predict(X_test)"
   ]
  },
  {
   "cell_type": "code",
   "execution_count": 53,
   "id": "1b1427e6",
   "metadata": {},
   "outputs": [
    {
     "data": {
      "text/plain": [
       "0.7894736842105263"
      ]
     },
     "execution_count": 53,
     "metadata": {},
     "output_type": "execute_result"
    }
   ],
   "source": [
    "Emission_model_fit.score(X_test, Y_test)"
   ]
  },
  {
   "cell_type": "code",
   "execution_count": 55,
   "id": "b739f2bc",
   "metadata": {},
   "outputs": [
    {
     "data": {
      "text/plain": [
       "array([0, 3, 0, ..., 0, 2, 2], dtype=int64)"
      ]
     },
     "execution_count": 55,
     "metadata": {},
     "output_type": "execute_result"
    }
   ],
   "source": [
    "model_prediction"
   ]
  },
  {
   "cell_type": "code",
   "execution_count": 56,
   "id": "c1b82d5c",
   "metadata": {},
   "outputs": [
    {
     "name": "stdout",
     "output_type": "stream",
     "text": [
      "[[355   0   0   0]\n",
      " [  0  38 102  13]\n",
      " [  0  15  84  67]\n",
      " [  0   0  15 318]]\n"
     ]
    }
   ],
   "source": [
    "confusion_matrix = confusion_matrix(Y_test, model_prediction)\n",
    "print(confusion_matrix)"
   ]
  },
  {
   "cell_type": "code",
   "execution_count": 57,
   "id": "f3d3e7a4",
   "metadata": {},
   "outputs": [
    {
     "name": "stdout",
     "output_type": "stream",
     "text": [
      "              precision    recall  f1-score   support\n",
      "\n",
      "           0       1.00      1.00      1.00       355\n",
      "           1       0.72      0.25      0.37       153\n",
      "           2       0.42      0.51      0.46       166\n",
      "           3       0.80      0.95      0.87       333\n",
      "\n",
      "    accuracy                           0.79      1007\n",
      "   macro avg       0.73      0.68      0.67      1007\n",
      "weighted avg       0.79      0.79      0.77      1007\n",
      "\n"
     ]
    }
   ],
   "source": [
    "print(classification_report(Y_test, model_prediction))"
   ]
  },
  {
   "cell_type": "markdown",
   "id": "d753250a",
   "metadata": {},
   "source": [
    "##  Trying Scalar and n-estimators"
   ]
  },
  {
   "cell_type": "code",
   "execution_count": 58,
   "id": "2405e250",
   "metadata": {},
   "outputs": [],
   "source": [
    "# Splitting into Train and Test sets\n",
    "X_train, X_test, y_train, y_test = train_test_split(X, y, random_state=78)"
   ]
  },
  {
   "cell_type": "code",
   "execution_count": 59,
   "id": "5814393a",
   "metadata": {},
   "outputs": [],
   "source": [
    "# Creating a StandardScaler instance.\n",
    "scaler = StandardScaler()\n",
    "# Fitting the Standard Scaler with the training data.\n",
    "X_scaler = scaler.fit(X_train)\n",
    "\n",
    "# Scaling the data.\n",
    "X_train_scaled = X_scaler.transform(X_train)\n",
    "X_test_scaled = X_scaler.transform(X_test)"
   ]
  },
  {
   "cell_type": "code",
   "execution_count": 60,
   "id": "a0e3cb91",
   "metadata": {},
   "outputs": [
    {
     "data": {
      "text/plain": [
       "array([[ 2.45703884, -1.17247264, -0.32610237, -1.11736756],\n",
       "       [ 0.20727615, -0.78336634, -0.32610237, -1.11736756],\n",
       "       [ 1.55713376, -0.39426003, -0.32610237,  1.3653061 ],\n",
       "       ...,\n",
       "       [-0.69262893, -0.00515373,  0.65793955,  1.01063843],\n",
       "       [-0.69262893,  1.16216519,  2.62602337,  1.3653061 ],\n",
       "       [ 0.65722869, -1.56157895,  0.65793955, -0.7626999 ]])"
      ]
     },
     "execution_count": 60,
     "metadata": {},
     "output_type": "execute_result"
    }
   ],
   "source": [
    "X_train_scaled"
   ]
  },
  {
   "cell_type": "code",
   "execution_count": 61,
   "id": "924c1ced",
   "metadata": {},
   "outputs": [],
   "source": [
    "# Create a random forest classifier.\n",
    "rf_model = RandomForestClassifier(n_estimators=128, random_state=78) "
   ]
  },
  {
   "cell_type": "code",
   "execution_count": 62,
   "id": "4f97019f",
   "metadata": {},
   "outputs": [],
   "source": [
    "# Fitting the model\n",
    "rf_model = rf_model.fit(X_train_scaled, y_train)"
   ]
  },
  {
   "cell_type": "code",
   "execution_count": 63,
   "id": "d03a7497",
   "metadata": {},
   "outputs": [],
   "source": [
    "# Making predictions using the testing data.\n",
    "predictions_s = rf_model.predict(X_test_scaled)"
   ]
  },
  {
   "cell_type": "code",
   "execution_count": 64,
   "id": "3b0e6ded",
   "metadata": {},
   "outputs": [
    {
     "data": {
      "text/plain": [
       "array([0, 3, 0, ..., 3, 0, 0], dtype=int64)"
      ]
     },
     "execution_count": 64,
     "metadata": {},
     "output_type": "execute_result"
    }
   ],
   "source": [
    "predictions_s"
   ]
  },
  {
   "cell_type": "code",
   "execution_count": 65,
   "id": "0c410aac",
   "metadata": {},
   "outputs": [
    {
     "data": {
      "text/plain": [
       "array([[0],\n",
       "       [3],\n",
       "       [0],\n",
       "       ...,\n",
       "       [3],\n",
       "       [0],\n",
       "       [0]], dtype=int64)"
      ]
     },
     "execution_count": 65,
     "metadata": {},
     "output_type": "execute_result"
    }
   ],
   "source": [
    "y_test"
   ]
  },
  {
   "cell_type": "code",
   "execution_count": 66,
   "id": "b47dcdeb",
   "metadata": {},
   "outputs": [],
   "source": [
    "# Calculating the accuracy score\n",
    "acc_score = accuracy_score(y_test, predictions_s)"
   ]
  },
  {
   "cell_type": "code",
   "execution_count": 67,
   "id": "ed9a714e",
   "metadata": {},
   "outputs": [
    {
     "data": {
      "text/plain": [
       "0.9189833200953137"
      ]
     },
     "execution_count": 67,
     "metadata": {},
     "output_type": "execute_result"
    }
   ],
   "source": [
    "acc_score"
   ]
  },
  {
   "cell_type": "markdown",
   "id": "30b41cb8",
   "metadata": {},
   "source": [
    "## New Data from out of the file to predict the Model"
   ]
  },
  {
   "cell_type": "code",
   "execution_count": 68,
   "id": "ba42eec4",
   "metadata": {},
   "outputs": [],
   "source": [
    "new_data = [(2, 8, 4, 6) , (9, 9, 1, 1)]"
   ]
  },
  {
   "cell_type": "code",
   "execution_count": 69,
   "id": "9090784c",
   "metadata": {},
   "outputs": [],
   "source": [
    "new_array = np.asarray(new_data)"
   ]
  },
  {
   "cell_type": "code",
   "execution_count": 70,
   "id": "bcb9f36e",
   "metadata": {},
   "outputs": [],
   "source": [
    "labels =[\"Green\", \"Yellow\", \"Orange\", \"Red\"]"
   ]
  },
  {
   "cell_type": "markdown",
   "id": "b8d2743e",
   "metadata": {},
   "source": [
    "### Logistic Regression Classifier"
   ]
  },
  {
   "cell_type": "code",
   "execution_count": 71,
   "id": "8f35cc79",
   "metadata": {},
   "outputs": [],
   "source": [
    "new_predicts = model.predict(new_array)"
   ]
  },
  {
   "cell_type": "code",
   "execution_count": 73,
   "id": "b39f4ce0",
   "metadata": {},
   "outputs": [
    {
     "name": "stdout",
     "output_type": "stream",
     "text": [
      "(2, 8, 4, 6) Red\n",
      "(9, 9, 1, 1) Yellow\n"
     ]
    }
   ],
   "source": [
    "for i in range(2):\n",
    "    print(new_data[i], labels[int(new_predicts[i])])"
   ]
  },
  {
   "cell_type": "code",
   "execution_count": 74,
   "id": "f80573f6",
   "metadata": {},
   "outputs": [
    {
     "data": {
      "text/plain": [
       "array([3, 1])"
      ]
     },
     "execution_count": 74,
     "metadata": {},
     "output_type": "execute_result"
    }
   ],
   "source": [
    "new_predicts"
   ]
  },
  {
   "cell_type": "markdown",
   "id": "9d98c105",
   "metadata": {},
   "source": [
    "### Random Forest Classifier"
   ]
  },
  {
   "cell_type": "code",
   "execution_count": 75,
   "id": "99f8eca3",
   "metadata": {},
   "outputs": [],
   "source": [
    "new_predict_rf = Emission_model.predict(new_array)"
   ]
  },
  {
   "cell_type": "code",
   "execution_count": 76,
   "id": "17dce24f",
   "metadata": {},
   "outputs": [
    {
     "name": "stdout",
     "output_type": "stream",
     "text": [
      "(2, 8, 4, 6) Red\n",
      "(9, 9, 1, 1) Orange\n"
     ]
    }
   ],
   "source": [
    "for i in range(2):\n",
    "    print(new_data[i], labels[int(new_predict_rf[i])])"
   ]
  },
  {
   "cell_type": "code",
   "execution_count": 77,
   "id": "89572b26",
   "metadata": {},
   "outputs": [
    {
     "data": {
      "text/plain": [
       "array([3, 2], dtype=int64)"
      ]
     },
     "execution_count": 77,
     "metadata": {},
     "output_type": "execute_result"
    }
   ],
   "source": [
    "new_predict_rf"
   ]
  },
  {
   "cell_type": "code",
   "execution_count": null,
   "id": "0f3ebb62",
   "metadata": {},
   "outputs": [],
   "source": []
  }
 ],
 "metadata": {
  "kernelspec": {
   "display_name": "mlenv",
   "language": "python",
   "name": "mlenv"
  },
  "language_info": {
   "codemirror_mode": {
    "name": "ipython",
    "version": 3
   },
   "file_extension": ".py",
   "mimetype": "text/x-python",
   "name": "python",
   "nbconvert_exporter": "python",
   "pygments_lexer": "ipython3",
   "version": "3.7.11"
  }
 },
 "nbformat": 4,
 "nbformat_minor": 5
}
